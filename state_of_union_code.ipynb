{
 "cells": [
  {
   "cell_type": "code",
   "execution_count": 10,
   "metadata": {},
   "outputs": [],
   "source": [
    "import pandas as pd\n",
    "import io\n",
    "import os"
   ]
  },
  {
   "cell_type": "code",
   "execution_count": 18,
   "metadata": {
    "colab": {},
    "colab_type": "code",
    "id": "WockEwrc_jfV"
   },
   "outputs": [
    {
     "data": {
      "text/html": [
       "<div>\n",
       "<style scoped>\n",
       "    .dataframe tbody tr th:only-of-type {\n",
       "        vertical-align: middle;\n",
       "    }\n",
       "\n",
       "    .dataframe tbody tr th {\n",
       "        vertical-align: top;\n",
       "    }\n",
       "\n",
       "    .dataframe thead th {\n",
       "        text-align: right;\n",
       "    }\n",
       "</style>\n",
       "<table border=\"1\" class=\"dataframe\">\n",
       "  <thead>\n",
       "    <tr style=\"text-align: right;\">\n",
       "      <th></th>\n",
       "      <th>year</th>\n",
       "      <th>text</th>\n",
       "    </tr>\n",
       "  </thead>\n",
       "  <tbody>\n",
       "    <tr>\n",
       "      <th>0</th>\n",
       "      <td>1790</td>\n",
       "      <td>George Washington\\nJanuary 8, 1790\\n\\nFellow-C...</td>\n",
       "    </tr>\n",
       "    <tr>\n",
       "      <th>1</th>\n",
       "      <td>1790</td>\n",
       "      <td>\\nState of the Union Address\\nGeorge Washingto...</td>\n",
       "    </tr>\n",
       "    <tr>\n",
       "      <th>2</th>\n",
       "      <td>1791</td>\n",
       "      <td>\\nState of the Union Address\\nGeorge Washingto...</td>\n",
       "    </tr>\n",
       "    <tr>\n",
       "      <th>3</th>\n",
       "      <td>1792</td>\n",
       "      <td>\\nState of the Union Address\\nGeorge Washingto...</td>\n",
       "    </tr>\n",
       "    <tr>\n",
       "      <th>4</th>\n",
       "      <td>1793</td>\n",
       "      <td>\\nState of the Union Address\\nGeorge Washingto...</td>\n",
       "    </tr>\n",
       "    <tr>\n",
       "      <th>5</th>\n",
       "      <td>1794</td>\n",
       "      <td>\\nState of the Union Address\\nGeorge Washingto...</td>\n",
       "    </tr>\n",
       "    <tr>\n",
       "      <th>6</th>\n",
       "      <td>1795</td>\n",
       "      <td>\\nState of the Union Address\\nGeorge Washingto...</td>\n",
       "    </tr>\n",
       "    <tr>\n",
       "      <th>7</th>\n",
       "      <td>1796</td>\n",
       "      <td>\\nState of the Union Address\\nGeorge Washingto...</td>\n",
       "    </tr>\n",
       "    <tr>\n",
       "      <th>8</th>\n",
       "      <td>1797</td>\n",
       "      <td>\\nState of the Union Address\\nJohn Adams\\nNove...</td>\n",
       "    </tr>\n",
       "    <tr>\n",
       "      <th>9</th>\n",
       "      <td>1798</td>\n",
       "      <td>\\nState of the Union Address\\nJohn Adams\\nDece...</td>\n",
       "    </tr>\n",
       "    <tr>\n",
       "      <th>10</th>\n",
       "      <td>1799</td>\n",
       "      <td>\\nState of the Union Address\\nJohn Adams\\nDece...</td>\n",
       "    </tr>\n",
       "    <tr>\n",
       "      <th>11</th>\n",
       "      <td>1800</td>\n",
       "      <td>\\nState of the Union Address\\nJohn Adams\\nNove...</td>\n",
       "    </tr>\n",
       "    <tr>\n",
       "      <th>12</th>\n",
       "      <td>1801</td>\n",
       "      <td>\\nState of the Union Address\\nThomas Jefferson...</td>\n",
       "    </tr>\n",
       "    <tr>\n",
       "      <th>13</th>\n",
       "      <td>1802</td>\n",
       "      <td>\\nState of the Union Address\\nThomas Jefferson...</td>\n",
       "    </tr>\n",
       "    <tr>\n",
       "      <th>14</th>\n",
       "      <td>1803</td>\n",
       "      <td>\\nState of the Union Address\\nThomas Jefferson...</td>\n",
       "    </tr>\n",
       "    <tr>\n",
       "      <th>15</th>\n",
       "      <td>1804</td>\n",
       "      <td>\\nState of the Union Address\\nThomas Jefferson...</td>\n",
       "    </tr>\n",
       "    <tr>\n",
       "      <th>16</th>\n",
       "      <td>1805</td>\n",
       "      <td>\\nState of the Union Address\\nThomas Jefferson...</td>\n",
       "    </tr>\n",
       "    <tr>\n",
       "      <th>17</th>\n",
       "      <td>1806</td>\n",
       "      <td>\\nState of the Union Address\\nThomas Jefferson...</td>\n",
       "    </tr>\n",
       "    <tr>\n",
       "      <th>18</th>\n",
       "      <td>1807</td>\n",
       "      <td>\\nState of the Union Address\\nThomas Jefferson...</td>\n",
       "    </tr>\n",
       "    <tr>\n",
       "      <th>19</th>\n",
       "      <td>1808</td>\n",
       "      <td>\\nState of the Union Address\\nThomas Jefferson...</td>\n",
       "    </tr>\n",
       "    <tr>\n",
       "      <th>20</th>\n",
       "      <td>1809</td>\n",
       "      <td>\\nState of the Union Address\\nJames Madison\\nN...</td>\n",
       "    </tr>\n",
       "    <tr>\n",
       "      <th>21</th>\n",
       "      <td>1810</td>\n",
       "      <td>\\nState of the Union Address\\nJames Madison\\nD...</td>\n",
       "    </tr>\n",
       "    <tr>\n",
       "      <th>22</th>\n",
       "      <td>1811</td>\n",
       "      <td>\\nState of the Union Address\\nJames Madison\\nN...</td>\n",
       "    </tr>\n",
       "    <tr>\n",
       "      <th>23</th>\n",
       "      <td>1812</td>\n",
       "      <td>\\nState of the Union Address\\nJames Madison\\nN...</td>\n",
       "    </tr>\n",
       "    <tr>\n",
       "      <th>24</th>\n",
       "      <td>1813</td>\n",
       "      <td>\\nState of the Union Address\\nJames Madison\\nD...</td>\n",
       "    </tr>\n",
       "    <tr>\n",
       "      <th>25</th>\n",
       "      <td>1814</td>\n",
       "      <td>\\nState of the Union Address\\nJames Madison\\nS...</td>\n",
       "    </tr>\n",
       "    <tr>\n",
       "      <th>26</th>\n",
       "      <td>1815</td>\n",
       "      <td>\\nState of the Union Address\\nJames Madison\\nD...</td>\n",
       "    </tr>\n",
       "    <tr>\n",
       "      <th>27</th>\n",
       "      <td>1816</td>\n",
       "      <td>\\nState of the Union Address\\nJames Madison\\nD...</td>\n",
       "    </tr>\n",
       "    <tr>\n",
       "      <th>28</th>\n",
       "      <td>1817</td>\n",
       "      <td>\\nState of the Union Address\\nJames Monroe\\nDe...</td>\n",
       "    </tr>\n",
       "    <tr>\n",
       "      <th>29</th>\n",
       "      <td>1818</td>\n",
       "      <td>\\nState of the Union Address\\nJames Monroe\\nNo...</td>\n",
       "    </tr>\n",
       "    <tr>\n",
       "      <th>...</th>\n",
       "      <td>...</td>\n",
       "      <td>...</td>\n",
       "    </tr>\n",
       "    <tr>\n",
       "      <th>196</th>\n",
       "      <td>1984</td>\n",
       "      <td>\\nState of the Union Address\\nRonald Reagan\\nJ...</td>\n",
       "    </tr>\n",
       "    <tr>\n",
       "      <th>197</th>\n",
       "      <td>1985</td>\n",
       "      <td>\\nState of the Union Address\\nRonald Reagan\\nF...</td>\n",
       "    </tr>\n",
       "    <tr>\n",
       "      <th>198</th>\n",
       "      <td>1986</td>\n",
       "      <td>\\nState of the Union Address\\nRonald Reagan\\nF...</td>\n",
       "    </tr>\n",
       "    <tr>\n",
       "      <th>199</th>\n",
       "      <td>1987</td>\n",
       "      <td>\\nState of the Union Address\\nRonald Reagan\\nJ...</td>\n",
       "    </tr>\n",
       "    <tr>\n",
       "      <th>200</th>\n",
       "      <td>1988</td>\n",
       "      <td>\\nState of the Union Address\\nRonald Reagan\\nJ...</td>\n",
       "    </tr>\n",
       "    <tr>\n",
       "      <th>201</th>\n",
       "      <td>1989</td>\n",
       "      <td>\\nAddress on Administration Goals\\nGeorge H.W....</td>\n",
       "    </tr>\n",
       "    <tr>\n",
       "      <th>202</th>\n",
       "      <td>1990</td>\n",
       "      <td>\\nState of the Union Address\\nGeorge H.W. Bush...</td>\n",
       "    </tr>\n",
       "    <tr>\n",
       "      <th>203</th>\n",
       "      <td>1991</td>\n",
       "      <td>\\nState of the Union Address\\nGeorge H.W. Bush...</td>\n",
       "    </tr>\n",
       "    <tr>\n",
       "      <th>204</th>\n",
       "      <td>1992</td>\n",
       "      <td>\\nState of the Union Address\\nGeorge H.W. Bush...</td>\n",
       "    </tr>\n",
       "    <tr>\n",
       "      <th>205</th>\n",
       "      <td>1993</td>\n",
       "      <td>\\nAddress on Administration Goals\\nWilliam J. ...</td>\n",
       "    </tr>\n",
       "    <tr>\n",
       "      <th>206</th>\n",
       "      <td>1994</td>\n",
       "      <td>\\nState of the Union Address\\nWilliam J. Clint...</td>\n",
       "    </tr>\n",
       "    <tr>\n",
       "      <th>207</th>\n",
       "      <td>1995</td>\n",
       "      <td>NaN</td>\n",
       "    </tr>\n",
       "    <tr>\n",
       "      <th>208</th>\n",
       "      <td>1996</td>\n",
       "      <td>\\nState of the Union Address\\nWilliam J. Clint...</td>\n",
       "    </tr>\n",
       "    <tr>\n",
       "      <th>209</th>\n",
       "      <td>1997</td>\n",
       "      <td>\\nState of the Union Address\\nWilliam J. Clint...</td>\n",
       "    </tr>\n",
       "    <tr>\n",
       "      <th>210</th>\n",
       "      <td>1998</td>\n",
       "      <td>\\nState of the Union Address\\nWilliam J. Clint...</td>\n",
       "    </tr>\n",
       "    <tr>\n",
       "      <th>211</th>\n",
       "      <td>1999</td>\n",
       "      <td>\\nState of the Union Address\\nWilliam J. Clint...</td>\n",
       "    </tr>\n",
       "    <tr>\n",
       "      <th>212</th>\n",
       "      <td>2000</td>\n",
       "      <td>\\nState of the Union Address\\nWilliam J. Clint...</td>\n",
       "    </tr>\n",
       "    <tr>\n",
       "      <th>213</th>\n",
       "      <td>2001</td>\n",
       "      <td>\\nAddress on Administration Goals (Budget Mess...</td>\n",
       "    </tr>\n",
       "    <tr>\n",
       "      <th>214</th>\n",
       "      <td>2001</td>\n",
       "      <td>\\nState of the Union Address\\nGeorge W. Bush\\n...</td>\n",
       "    </tr>\n",
       "    <tr>\n",
       "      <th>215</th>\n",
       "      <td>2002</td>\n",
       "      <td>\\nState of the Union Address\\nGeorge W. Bush\\n...</td>\n",
       "    </tr>\n",
       "    <tr>\n",
       "      <th>216</th>\n",
       "      <td>2003</td>\n",
       "      <td>\\nState of the Union Address\\nGeorge W. Bush\\n...</td>\n",
       "    </tr>\n",
       "    <tr>\n",
       "      <th>217</th>\n",
       "      <td>2004</td>\n",
       "      <td>\\nState of the Union Address\\nGeorge W. Bush\\n...</td>\n",
       "    </tr>\n",
       "    <tr>\n",
       "      <th>218</th>\n",
       "      <td>2005</td>\n",
       "      <td>\\nState of the Union Address\\nGeorge W. Bush\\n...</td>\n",
       "    </tr>\n",
       "    <tr>\n",
       "      <th>219</th>\n",
       "      <td>2006</td>\n",
       "      <td>\\nState of the Union Address\\nGeorge W. Bush\\n...</td>\n",
       "    </tr>\n",
       "    <tr>\n",
       "      <th>220</th>\n",
       "      <td>2007</td>\n",
       "      <td>\\nState of the Union Address\\nGeorge W. Bush\\n...</td>\n",
       "    </tr>\n",
       "    <tr>\n",
       "      <th>221</th>\n",
       "      <td>2008</td>\n",
       "      <td>\\nState of the Union Address\\nGeorge W. Bush\\n...</td>\n",
       "    </tr>\n",
       "    <tr>\n",
       "      <th>222</th>\n",
       "      <td>2009</td>\n",
       "      <td>\\nAddress to Joint Session of Congress \\nBarac...</td>\n",
       "    </tr>\n",
       "    <tr>\n",
       "      <th>223</th>\n",
       "      <td>2010</td>\n",
       "      <td>\\nState of the Union Address\\nBarack Obama \\nJ...</td>\n",
       "    </tr>\n",
       "    <tr>\n",
       "      <th>224</th>\n",
       "      <td>2011</td>\n",
       "      <td>\\nState of the Union Address\\nBarack Obama \\nJ...</td>\n",
       "    </tr>\n",
       "    <tr>\n",
       "      <th>225</th>\n",
       "      <td>2012</td>\n",
       "      <td>\\nState of the Union Address\\nBarack Obama \\nJ...</td>\n",
       "    </tr>\n",
       "  </tbody>\n",
       "</table>\n",
       "<p>226 rows × 2 columns</p>\n",
       "</div>"
      ],
      "text/plain": [
       "     year                                               text\n",
       "0    1790  George Washington\\nJanuary 8, 1790\\n\\nFellow-C...\n",
       "1    1790  \\nState of the Union Address\\nGeorge Washingto...\n",
       "2    1791  \\nState of the Union Address\\nGeorge Washingto...\n",
       "3    1792  \\nState of the Union Address\\nGeorge Washingto...\n",
       "4    1793  \\nState of the Union Address\\nGeorge Washingto...\n",
       "5    1794  \\nState of the Union Address\\nGeorge Washingto...\n",
       "6    1795  \\nState of the Union Address\\nGeorge Washingto...\n",
       "7    1796  \\nState of the Union Address\\nGeorge Washingto...\n",
       "8    1797  \\nState of the Union Address\\nJohn Adams\\nNove...\n",
       "9    1798  \\nState of the Union Address\\nJohn Adams\\nDece...\n",
       "10   1799  \\nState of the Union Address\\nJohn Adams\\nDece...\n",
       "11   1800  \\nState of the Union Address\\nJohn Adams\\nNove...\n",
       "12   1801  \\nState of the Union Address\\nThomas Jefferson...\n",
       "13   1802  \\nState of the Union Address\\nThomas Jefferson...\n",
       "14   1803  \\nState of the Union Address\\nThomas Jefferson...\n",
       "15   1804  \\nState of the Union Address\\nThomas Jefferson...\n",
       "16   1805  \\nState of the Union Address\\nThomas Jefferson...\n",
       "17   1806  \\nState of the Union Address\\nThomas Jefferson...\n",
       "18   1807  \\nState of the Union Address\\nThomas Jefferson...\n",
       "19   1808  \\nState of the Union Address\\nThomas Jefferson...\n",
       "20   1809  \\nState of the Union Address\\nJames Madison\\nN...\n",
       "21   1810  \\nState of the Union Address\\nJames Madison\\nD...\n",
       "22   1811  \\nState of the Union Address\\nJames Madison\\nN...\n",
       "23   1812  \\nState of the Union Address\\nJames Madison\\nN...\n",
       "24   1813  \\nState of the Union Address\\nJames Madison\\nD...\n",
       "25   1814  \\nState of the Union Address\\nJames Madison\\nS...\n",
       "26   1815  \\nState of the Union Address\\nJames Madison\\nD...\n",
       "27   1816  \\nState of the Union Address\\nJames Madison\\nD...\n",
       "28   1817  \\nState of the Union Address\\nJames Monroe\\nDe...\n",
       "29   1818  \\nState of the Union Address\\nJames Monroe\\nNo...\n",
       "..    ...                                                ...\n",
       "196  1984  \\nState of the Union Address\\nRonald Reagan\\nJ...\n",
       "197  1985  \\nState of the Union Address\\nRonald Reagan\\nF...\n",
       "198  1986  \\nState of the Union Address\\nRonald Reagan\\nF...\n",
       "199  1987  \\nState of the Union Address\\nRonald Reagan\\nJ...\n",
       "200  1988  \\nState of the Union Address\\nRonald Reagan\\nJ...\n",
       "201  1989  \\nAddress on Administration Goals\\nGeorge H.W....\n",
       "202  1990  \\nState of the Union Address\\nGeorge H.W. Bush...\n",
       "203  1991  \\nState of the Union Address\\nGeorge H.W. Bush...\n",
       "204  1992  \\nState of the Union Address\\nGeorge H.W. Bush...\n",
       "205  1993  \\nAddress on Administration Goals\\nWilliam J. ...\n",
       "206  1994  \\nState of the Union Address\\nWilliam J. Clint...\n",
       "207  1995                                                NaN\n",
       "208  1996  \\nState of the Union Address\\nWilliam J. Clint...\n",
       "209  1997  \\nState of the Union Address\\nWilliam J. Clint...\n",
       "210  1998  \\nState of the Union Address\\nWilliam J. Clint...\n",
       "211  1999  \\nState of the Union Address\\nWilliam J. Clint...\n",
       "212  2000  \\nState of the Union Address\\nWilliam J. Clint...\n",
       "213  2001  \\nAddress on Administration Goals (Budget Mess...\n",
       "214  2001  \\nState of the Union Address\\nGeorge W. Bush\\n...\n",
       "215  2002  \\nState of the Union Address\\nGeorge W. Bush\\n...\n",
       "216  2003  \\nState of the Union Address\\nGeorge W. Bush\\n...\n",
       "217  2004  \\nState of the Union Address\\nGeorge W. Bush\\n...\n",
       "218  2005  \\nState of the Union Address\\nGeorge W. Bush\\n...\n",
       "219  2006  \\nState of the Union Address\\nGeorge W. Bush\\n...\n",
       "220  2007  \\nState of the Union Address\\nGeorge W. Bush\\n...\n",
       "221  2008  \\nState of the Union Address\\nGeorge W. Bush\\n...\n",
       "222  2009  \\nAddress to Joint Session of Congress \\nBarac...\n",
       "223  2010  \\nState of the Union Address\\nBarack Obama \\nJ...\n",
       "224  2011  \\nState of the Union Address\\nBarack Obama \\nJ...\n",
       "225  2012  \\nState of the Union Address\\nBarack Obama \\nJ...\n",
       "\n",
       "[226 rows x 2 columns]"
      ]
     },
     "execution_count": 18,
     "metadata": {},
     "output_type": "execute_result"
    }
   ],
   "source": [
    "# Change your file path as per necessary\n",
    "state_of_the_union_data = pd.read_csv(r\"C:\\Users\\state-of-the-union.csv\")\n",
    "state_of_the_union_data"
   ]
  },
  {
   "cell_type": "code",
   "execution_count": 9,
   "metadata": {
    "colab": {
     "base_uri": "https://localhost:8080/",
     "height": 34
    },
    "colab_type": "code",
    "id": "iYvzF1H_Cjfk",
    "outputId": "6667f3b9-f15a-49dc-d523-94b18136047b"
   },
   "outputs": [
    {
     "data": {
      "text/plain": [
       "(226, 2)"
      ]
     },
     "execution_count": 9,
     "metadata": {
      "tags": []
     },
     "output_type": "execute_result"
    }
   ],
   "source": [
    "state_of_the_union_data.shape"
   ]
  },
  {
   "cell_type": "code",
   "execution_count": 0,
   "metadata": {
    "colab": {},
    "colab_type": "code",
    "id": "gSmsQ50EDOmA"
   },
   "outputs": [],
   "source": [
    "state_of_the_union_data = state_of_the_union_data.dropna().reset_index(drop=True)"
   ]
  },
  {
   "cell_type": "code",
   "execution_count": 11,
   "metadata": {
    "colab": {
     "base_uri": "https://localhost:8080/",
     "height": 34
    },
    "colab_type": "code",
    "id": "43aiWkXkDhEx",
    "outputId": "772ffea1-0ae6-4cab-c825-2ae55ae15ce9"
   },
   "outputs": [
    {
     "data": {
      "text/plain": [
       "(155, 2)"
      ]
     },
     "execution_count": 11,
     "metadata": {
      "tags": []
     },
     "output_type": "execute_result"
    }
   ],
   "source": [
    "state_of_the_union_data.shape"
   ]
  },
  {
   "cell_type": "code",
   "execution_count": 0,
   "metadata": {
    "colab": {},
    "colab_type": "code",
    "id": "GVhf9wBNEUuI"
   },
   "outputs": [],
   "source": [
    "from tqdm import tqdm_notebook\n",
    "tqdm_notebook().pandas()\n",
    "from nltk.tokenize import sent_tokenize\n",
    "import nltk\n",
    "nltk.download('punkt')"
   ]
  },
  {
   "cell_type": "code",
   "execution_count": 0,
   "metadata": {
    "colab": {},
    "colab_type": "code",
    "id": "MysUGj93QN4w"
   },
   "outputs": [],
   "source": [
    "pip install tqdm --upgrade"
   ]
  },
  {
   "cell_type": "code",
   "execution_count": 13,
   "metadata": {
    "colab": {
     "base_uri": "https://localhost:8080/",
     "height": 34
    },
    "colab_type": "code",
    "id": "9VzCk12zEYmI",
    "outputId": "4bf37f97-68cd-4a2f-e0f3-2815057cb427"
   },
   "outputs": [
    {
     "data": {
      "text/plain": [
       "Index(['year', 'text'], dtype='object')"
      ]
     },
     "execution_count": 13,
     "metadata": {
      "tags": []
     },
     "output_type": "execute_result"
    }
   ],
   "source": [
    "state_of_the_union_data.columns"
   ]
  },
  {
   "cell_type": "code",
   "execution_count": 20,
   "metadata": {
    "colab": {
     "base_uri": "https://localhost:8080/",
     "height": 136,
     "referenced_widgets": [
      "1acc915c00bf48fba35e8796f6b1f5bd",
      "5d011a93c185465d97db4a5432778651",
      "06d3f97ffc7542c68e958863d1fe2e7a",
      "6791da0811f041058d6b5b844abcaab2",
      "37a68d36718b4a5a86bf8c80021b3093",
      "ad0a80dd40d74ae5a84ff987a3998163",
      "58796c8b228d40f7917beed6697e75b3",
      "7ec46f48f1d54036846d0b0f356fa774"
     ]
    },
    "colab_type": "code",
    "id": "_aKQ3JKaNh9T",
    "outputId": "0b49eb60-879d-4a86-b588-0297fda18653"
   },
   "outputs": [
    {
     "data": {
      "application/vnd.jupyter.widget-view+json": {
       "model_id": "1acc915c00bf48fba35e8796f6b1f5bd",
       "version_major": 2,
       "version_minor": 0
      },
      "text/plain": [
       "HBox(children=(FloatProgress(value=0.0, max=155.0), HTML(value='')))"
      ]
     },
     "metadata": {
      "tags": []
     },
     "output_type": "display_data"
    },
    {
     "name": "stdout",
     "output_type": "stream",
     "text": [
      "\n"
     ]
    },
    {
     "data": {
      "text/plain": [
       "['George Washington\\nJanuary 8, 1790\\n\\nFellow-Citizens of the Senate and House of Representatives:\\n\\nI embrace with great satisfaction the opportunity which now presents itself\\nof congratulating you on the present favorable prospects of our public\\naffairs.',\n",
       " 'The recent accession of the important state of North Carolina to\\nthe Constitution of the United States (of which official information has\\nbeen received), the rising credit and respectability of our country, the\\ngeneral and increasing good will toward the government of the Union, and\\nthe concord, peace, and plenty with which we are blessed are circumstances\\nauspicious in an eminent degree to our national prosperity.',\n",
       " 'In resuming your consultations for the general good you can not but derive\\nencouragement from the reflection that the measures of the last session\\nhave been as satisfactory to your constituents as the novelty and\\ndifficulty of the work allowed you to hope.']"
      ]
     },
     "execution_count": 20,
     "metadata": {
      "tags": []
     },
     "output_type": "execute_result"
    }
   ],
   "source": [
    "state_of_the_union_data['sentences'] = state_of_the_union_data.text.progress_map(sent_tokenize)\n",
    "state_of_the_union_data['sentences'].head(1).tolist()[0][:3] # Print the first 3 sentences of the 1st article"
   ]
  },
  {
   "cell_type": "code",
   "execution_count": 0,
   "metadata": {
    "colab": {},
    "colab_type": "code",
    "id": "oucS5jjOSVB0"
   },
   "outputs": [],
   "source": [
    "from nltk.tokenize import word_tokenize"
   ]
  },
  {
   "cell_type": "code",
   "execution_count": 22,
   "metadata": {
    "colab": {
     "base_uri": "https://localhost:8080/",
     "height": 102,
     "referenced_widgets": [
      "a21230b5b26f400face0245568360af9",
      "3d3fa86f2e984ca4809382f8e0f0642e",
      "64866bd9f0484b02b556d893c61eeb5a",
      "4fc690698ae5483388cc5d4728b76a18",
      "e7e0252571ed4998bc544f403d57ed83",
      "c5faf5d6e8234c89829a5e29677684db",
      "fb4f1d0da5e241469ad41288bf1a051d",
      "17743f6aa3744b97a78cf392a65f3454"
     ]
    },
    "colab_type": "code",
    "id": "j6vdSd58SYHz",
    "outputId": "d37693c7-7caa-41cc-a322-1cdbbcbc9f1e"
   },
   "outputs": [
    {
     "data": {
      "application/vnd.jupyter.widget-view+json": {
       "model_id": "a21230b5b26f400face0245568360af9",
       "version_major": 2,
       "version_minor": 0
      },
      "text/plain": [
       "HBox(children=(FloatProgress(value=0.0, max=155.0), HTML(value='')))"
      ]
     },
     "metadata": {
      "tags": []
     },
     "output_type": "display_data"
    },
    {
     "name": "stdout",
     "output_type": "stream",
     "text": [
      "\n",
      "[['George', 'Washington', 'January', '8', ',', '1790', 'Fellow-Citizens', 'of', 'the', 'Senate', 'and', 'House', 'of', 'Representatives', ':', 'I', 'embrace', 'with', 'great', 'satisfaction', 'the', 'opportunity', 'which', 'now', 'presents', 'itself', 'of', 'congratulating', 'you', 'on', 'the', 'present', 'favorable', 'prospects', 'of', 'our', 'public', 'affairs', '.'], ['The', 'recent', 'accession', 'of', 'the', 'important', 'state', 'of', 'North', 'Carolina', 'to', 'the', 'Constitution', 'of', 'the', 'United', 'States', '(', 'of', 'which', 'official', 'information', 'has', 'been', 'received', ')', ',', 'the', 'rising', 'credit', 'and', 'respectability', 'of', 'our', 'country', ',', 'the', 'general', 'and', 'increasing', 'good', 'will', 'toward', 'the', 'government', 'of', 'the', 'Union', ',', 'and', 'the', 'concord', ',', 'peace', ',', 'and', 'plenty', 'with', 'which', 'we', 'are', 'blessed', 'are', 'circumstances', 'auspicious', 'in', 'an', 'eminent', 'degree', 'to', 'our', 'national', 'prosperity', '.'], ['In', 'resuming', 'your', 'consultations', 'for', 'the', 'general', 'good', 'you', 'can', 'not', 'but', 'derive', 'encouragement', 'from', 'the', 'reflection', 'that', 'the', 'measures', 'of', 'the', 'last', 'session', 'have', 'been', 'as', 'satisfactory', 'to', 'your', 'constituents', 'as', 'the', 'novelty', 'and', 'difficulty', 'of', 'the', 'work', 'allowed', 'you', 'to', 'hope', '.']]\n"
     ]
    }
   ],
   "source": [
    "state_of_the_union_data['tokens_sentences'] = state_of_the_union_data['sentences'].progress_map(lambda sentences: [word_tokenize(sentence) for sentence in sentences])\n",
    "print(state_of_the_union_data['tokens_sentences'].head(1).tolist()[0][:3])"
   ]
  },
  {
   "cell_type": "code",
   "execution_count": 0,
   "metadata": {
    "colab": {},
    "colab_type": "code",
    "id": "xd70rpoKSyH-"
   },
   "outputs": [],
   "source": [
    "from nltk import pos_tag"
   ]
  },
  {
   "cell_type": "code",
   "execution_count": 25,
   "metadata": {
    "colab": {
     "base_uri": "https://localhost:8080/",
     "height": 84
    },
    "colab_type": "code",
    "id": "j7S0eQNZTAWB",
    "outputId": "efd21ea8-9f62-41d4-c914-349a33364693"
   },
   "outputs": [
    {
     "name": "stdout",
     "output_type": "stream",
     "text": [
      "[nltk_data] Downloading package averaged_perceptron_tagger to\n",
      "[nltk_data]     /root/nltk_data...\n",
      "[nltk_data]   Unzipping taggers/averaged_perceptron_tagger.zip.\n"
     ]
    },
    {
     "data": {
      "text/plain": [
       "True"
      ]
     },
     "execution_count": 25,
     "metadata": {
      "tags": []
     },
     "output_type": "execute_result"
    }
   ],
   "source": [
    "nltk.download('averaged_perceptron_tagger')"
   ]
  },
  {
   "cell_type": "code",
   "execution_count": 26,
   "metadata": {
    "colab": {
     "base_uri": "https://localhost:8080/",
     "height": 102,
     "referenced_widgets": [
      "ed27683820ba4eaaae1397d176a2946f",
      "cdfa166cf6dc4ce2a2007d797a863a4c",
      "bd0d57808d544b25884a617a0542e856",
      "94c3f49f82764d018af1c8a095f874a8",
      "cf5b8149bcf043ad8169958301128e0f",
      "df4dce072d2f4d10a0cffd09ada1cdf9",
      "c19e5fa897174e55b6089a43e1fb757d",
      "76d8039e8c99463f830c236cd868e62e"
     ]
    },
    "colab_type": "code",
    "id": "Cv_Wv7MBSz8k",
    "outputId": "e2e82b68-5121-497e-a7a4-a88bc3d883d4"
   },
   "outputs": [
    {
     "data": {
      "application/vnd.jupyter.widget-view+json": {
       "model_id": "ed27683820ba4eaaae1397d176a2946f",
       "version_major": 2,
       "version_minor": 0
      },
      "text/plain": [
       "HBox(children=(FloatProgress(value=0.0, max=155.0), HTML(value='')))"
      ]
     },
     "metadata": {
      "tags": []
     },
     "output_type": "display_data"
    },
    {
     "name": "stdout",
     "output_type": "stream",
     "text": [
      "\n",
      "[[('George', 'NNP'), ('Washington', 'NNP'), ('January', 'NNP'), ('8', 'CD'), (',', ','), ('1790', 'CD'), ('Fellow-Citizens', 'NNS'), ('of', 'IN'), ('the', 'DT'), ('Senate', 'NNP'), ('and', 'CC'), ('House', 'NNP'), ('of', 'IN'), ('Representatives', 'NNPS'), (':', ':'), ('I', 'PRP'), ('embrace', 'VBP'), ('with', 'IN'), ('great', 'JJ'), ('satisfaction', 'NN'), ('the', 'DT'), ('opportunity', 'NN'), ('which', 'WDT'), ('now', 'RB'), ('presents', 'VBZ'), ('itself', 'PRP'), ('of', 'IN'), ('congratulating', 'VBG'), ('you', 'PRP'), ('on', 'IN'), ('the', 'DT'), ('present', 'JJ'), ('favorable', 'JJ'), ('prospects', 'NNS'), ('of', 'IN'), ('our', 'PRP$'), ('public', 'JJ'), ('affairs', 'NNS'), ('.', '.')], [('The', 'DT'), ('recent', 'JJ'), ('accession', 'NN'), ('of', 'IN'), ('the', 'DT'), ('important', 'JJ'), ('state', 'NN'), ('of', 'IN'), ('North', 'NNP'), ('Carolina', 'NNP'), ('to', 'TO'), ('the', 'DT'), ('Constitution', 'NNP'), ('of', 'IN'), ('the', 'DT'), ('United', 'NNP'), ('States', 'NNPS'), ('(', '('), ('of', 'IN'), ('which', 'WDT'), ('official', 'JJ'), ('information', 'NN'), ('has', 'VBZ'), ('been', 'VBN'), ('received', 'VBN'), (')', ')'), (',', ','), ('the', 'DT'), ('rising', 'VBG'), ('credit', 'NN'), ('and', 'CC'), ('respectability', 'NN'), ('of', 'IN'), ('our', 'PRP$'), ('country', 'NN'), (',', ','), ('the', 'DT'), ('general', 'JJ'), ('and', 'CC'), ('increasing', 'VBG'), ('good', 'JJ'), ('will', 'MD'), ('toward', 'IN'), ('the', 'DT'), ('government', 'NN'), ('of', 'IN'), ('the', 'DT'), ('Union', 'NNP'), (',', ','), ('and', 'CC'), ('the', 'DT'), ('concord', 'NN'), (',', ','), ('peace', 'NN'), (',', ','), ('and', 'CC'), ('plenty', 'NN'), ('with', 'IN'), ('which', 'WDT'), ('we', 'PRP'), ('are', 'VBP'), ('blessed', 'VBN'), ('are', 'VBP'), ('circumstances', 'NNS'), ('auspicious', 'JJ'), ('in', 'IN'), ('an', 'DT'), ('eminent', 'JJ'), ('degree', 'NN'), ('to', 'TO'), ('our', 'PRP$'), ('national', 'JJ'), ('prosperity', 'NN'), ('.', '.')], [('In', 'IN'), ('resuming', 'VBG'), ('your', 'PRP$'), ('consultations', 'NNS'), ('for', 'IN'), ('the', 'DT'), ('general', 'JJ'), ('good', 'NN'), ('you', 'PRP'), ('can', 'MD'), ('not', 'RB'), ('but', 'CC'), ('derive', 'JJ'), ('encouragement', 'NN'), ('from', 'IN'), ('the', 'DT'), ('reflection', 'NN'), ('that', 'IN'), ('the', 'DT'), ('measures', 'NNS'), ('of', 'IN'), ('the', 'DT'), ('last', 'JJ'), ('session', 'NN'), ('have', 'VBP'), ('been', 'VBN'), ('as', 'IN'), ('satisfactory', 'JJ'), ('to', 'TO'), ('your', 'PRP$'), ('constituents', 'NNS'), ('as', 'IN'), ('the', 'DT'), ('novelty', 'NN'), ('and', 'CC'), ('difficulty', 'NN'), ('of', 'IN'), ('the', 'DT'), ('work', 'NN'), ('allowed', 'VBD'), ('you', 'PRP'), ('to', 'TO'), ('hope', 'VB'), ('.', '.')]]\n"
     ]
    }
   ],
   "source": [
    "state_of_the_union_data['POS_tokens'] = state_of_the_union_data['tokens_sentences'].progress_map(lambda tokens_sentences: [pos_tag(tokens) for tokens in tokens_sentences])\n",
    "print(state_of_the_union_data['POS_tokens'].head(1).tolist()[0][:3])"
   ]
  },
  {
   "cell_type": "code",
   "execution_count": 0,
   "metadata": {
    "colab": {},
    "colab_type": "code",
    "id": "z7ZRSFQhTT90"
   },
   "outputs": [],
   "source": [
    "from nltk.corpus import wordnet\n",
    "\n",
    "def get_wordnet_pos(treebank_tag):\n",
    "\n",
    "    if treebank_tag.startswith('J'):\n",
    "        return wordnet.ADJ\n",
    "    elif treebank_tag.startswith('V'):\n",
    "        return wordnet.VERB\n",
    "    elif treebank_tag.startswith('N'):\n",
    "        return wordnet.NOUN\n",
    "    elif treebank_tag.startswith('R'):\n",
    "        return wordnet.ADV\n",
    "    else:\n",
    "        return ''\n",
    "\n",
    "from nltk.stem.wordnet import WordNetLemmatizer\n",
    "lemmatizer = WordNetLemmatizer()"
   ]
  },
  {
   "cell_type": "code",
   "execution_count": 29,
   "metadata": {
    "colab": {
     "base_uri": "https://localhost:8080/",
     "height": 67
    },
    "colab_type": "code",
    "id": "7gR89TLnTrWS",
    "outputId": "b8e253c3-a594-45dd-d0f4-d2834c1411b7"
   },
   "outputs": [
    {
     "name": "stdout",
     "output_type": "stream",
     "text": [
      "[nltk_data] Downloading package wordnet to /root/nltk_data...\n",
      "[nltk_data]   Unzipping corpora/wordnet.zip.\n"
     ]
    },
    {
     "data": {
      "text/plain": [
       "True"
      ]
     },
     "execution_count": 29,
     "metadata": {
      "tags": []
     },
     "output_type": "execute_result"
    }
   ],
   "source": [
    "nltk.download('wordnet')"
   ]
  },
  {
   "cell_type": "code",
   "execution_count": 30,
   "metadata": {
    "colab": {
     "base_uri": "https://localhost:8080/",
     "height": 66,
     "referenced_widgets": [
      "48df36d342744830a07a71d58e6bf5cc",
      "5f25214c05aa48a0b2af18e27cb8a253",
      "aac67e55f3b749e8a8eda966a7599bcb",
      "c2266e2d8274455c99e79cdcc8c5cab0",
      "43f71e9de039486c8d66c238b2a82069",
      "81a0875f56194bec9658dba2c54cdfa0",
      "d11e933ef87945c79eeeb36f7b1fe6e1",
      "7ed94f88942342869ee40472605abec1"
     ]
    },
    "colab_type": "code",
    "id": "TTelRnRgTgLB",
    "outputId": "a90d31a6-d5e3-4b3c-a520-ce7ee03907ba"
   },
   "outputs": [
    {
     "data": {
      "application/vnd.jupyter.widget-view+json": {
       "model_id": "48df36d342744830a07a71d58e6bf5cc",
       "version_major": 2,
       "version_minor": 0
      },
      "text/plain": [
       "HBox(children=(FloatProgress(value=0.0, max=155.0), HTML(value='')))"
      ]
     },
     "metadata": {
      "tags": []
     },
     "output_type": "display_data"
    },
    {
     "name": "stdout",
     "output_type": "stream",
     "text": [
      "\n"
     ]
    }
   ],
   "source": [
    "# Lemmatizing each word with its POS tag, in each sentence\n",
    "state_of_the_union_data['tokens_sentences_lemmatized'] = state_of_the_union_data['POS_tokens'].progress_map(\n",
    "    lambda list_tokens_POS: [\n",
    "        [\n",
    "            lemmatizer.lemmatize(el[0], get_wordnet_pos(el[1])) \n",
    "            if get_wordnet_pos(el[1]) != '' else el[0] for el in tokens_POS\n",
    "        ] \n",
    "        for tokens_POS in list_tokens_POS\n",
    "    ]\n",
    ")"
   ]
  },
  {
   "cell_type": "code",
   "execution_count": 0,
   "metadata": {
    "colab": {},
    "colab_type": "code",
    "id": "vgqGs_w9T4Vq"
   },
   "outputs": [],
   "source": [
    "state_of_the_union_data['tokens_sentences_lemmatized'].head(1).tolist()[0][:3]"
   ]
  },
  {
   "cell_type": "markdown",
   "metadata": {
    "colab_type": "text",
    "id": "5dXm80dcUQLb"
   },
   "source": [
    "**Removing stop words**"
   ]
  },
  {
   "cell_type": "code",
   "execution_count": 0,
   "metadata": {
    "colab": {},
    "colab_type": "code",
    "id": "ZyH8H0gXUZXd"
   },
   "outputs": [],
   "source": [
    "from nltk.corpus import stopwords\n",
    "nltk.download('stopwords')"
   ]
  },
  {
   "cell_type": "code",
   "execution_count": 0,
   "metadata": {
    "colab": {},
    "colab_type": "code",
    "id": "D-5MMxmbUWdP"
   },
   "outputs": [],
   "source": [
    "state_of_the_union_data_stop_words_verbs = ['State of the Union Address', 'get', 'go', 'know', 'may', 'need', 'like', 'make', 'see', 'want', 'come', 'take', 'use', 'would', 'can']\n",
    "state_of_the_union_data_stop_words_other = ['August', 'one', 'January', 'mr', 'February', 'image', 'March', 'de', 'September', 'en', 'July', 'caption', 'April', 'also', 'October', 'copyright', 'May', 'something', 'June', 'getty', 'November', 'December']\n",
    "my_stopwords = state_of_the_union_data_stop_words_verbs + state_of_the_union_data_stop_words_other"
   ]
  },
  {
   "cell_type": "code",
   "execution_count": 0,
   "metadata": {
    "colab": {},
    "colab_type": "code",
    "id": "YPStDzb_Wr_p"
   },
   "outputs": [],
   "source": [
    "from itertools import chain"
   ]
  },
  {
   "cell_type": "code",
   "execution_count": 0,
   "metadata": {
    "colab": {},
    "colab_type": "code",
    "id": "UJ2PX9y3W4VC"
   },
   "outputs": [],
   "source": [
    "state_of_the_union_data['tokens'] = state_of_the_union_data['tokens_sentences_lemmatized'].map(lambda sentences: list(chain.from_iterable(sentences)))\n",
    "state_of_the_union_data['tokens'] = state_of_the_union_data['tokens'].map(lambda tokens: [token.lower() for token in tokens if token.isalpha() \n",
    "                                                    and token.lower() not in my_stopwords and len(token)>1])"
   ]
  },
  {
   "cell_type": "code",
   "execution_count": 0,
   "metadata": {
    "colab": {},
    "colab_type": "code",
    "id": "iGMCwgt9XFPp"
   },
   "outputs": [],
   "source": [
    "state_of_the_union_data['tokens'].head(1).tolist()[0][:30]"
   ]
  },
  {
   "cell_type": "markdown",
   "metadata": {
    "colab_type": "text",
    "id": "aOVMOSo8XPlx"
   },
   "source": [
    "**LDA Prepare Data**"
   ]
  },
  {
   "cell_type": "code",
   "execution_count": 0,
   "metadata": {
    "colab": {},
    "colab_type": "code",
    "id": "PBCskjOyXTkw"
   },
   "outputs": [],
   "source": [
    "from gensim.models import Phrases"
   ]
  },
  {
   "cell_type": "code",
   "execution_count": 47,
   "metadata": {
    "colab": {
     "base_uri": "https://localhost:8080/",
     "height": 50
    },
    "colab_type": "code",
    "id": "Xu43LkUsXWK0",
    "outputId": "0e977ac4-b2a3-4f80-9d7c-c72ce567a88a"
   },
   "outputs": [
    {
     "name": "stderr",
     "output_type": "stream",
     "text": [
      "/usr/local/lib/python3.6/dist-packages/gensim/models/phrases.py:598: UserWarning: For a faster implementation, use the gensim.models.phrases.Phraser class\n",
      "  warnings.warn(\"For a faster implementation, use the gensim.models.phrases.Phraser class\")\n"
     ]
    }
   ],
   "source": [
    "tokens = state_of_the_union_data['tokens'].tolist()\n",
    "bigram_model = Phrases(tokens)\n",
    "trigram_model = Phrases(bigram_model[tokens], min_count=1)\n",
    "tokens = list(trigram_model[bigram_model[tokens]])"
   ]
  },
  {
   "cell_type": "markdown",
   "metadata": {
    "colab_type": "text",
    "id": "kWXO35MBXijX"
   },
   "source": [
    "**Prepare object for our model**"
   ]
  },
  {
   "cell_type": "code",
   "execution_count": 0,
   "metadata": {
    "colab": {},
    "colab_type": "code",
    "id": "kt-Jt4R2XmbM"
   },
   "outputs": [],
   "source": [
    "from gensim import corpora"
   ]
  },
  {
   "cell_type": "code",
   "execution_count": 0,
   "metadata": {
    "colab": {},
    "colab_type": "code",
    "id": "K_26Z-RNXo8R"
   },
   "outputs": [],
   "source": [
    "dictionary_LDA = corpora.Dictionary(tokens)\n",
    "dictionary_LDA.filter_extremes(no_below=3)\n",
    "corpus = [dictionary_LDA.doc2bow(tok) for tok in tokens]"
   ]
  },
  {
   "cell_type": "markdown",
   "metadata": {
    "colab_type": "text",
    "id": "aOKQKF3YXtIy"
   },
   "source": [
    "**LDA Start**"
   ]
  },
  {
   "cell_type": "code",
   "execution_count": 0,
   "metadata": {
    "colab": {},
    "colab_type": "code",
    "id": "clLWeXTQXrcQ"
   },
   "outputs": [],
   "source": [
    "from gensim import models\n",
    "import numpy as np"
   ]
  },
  {
   "cell_type": "code",
   "execution_count": 51,
   "metadata": {
    "colab": {
     "base_uri": "https://localhost:8080/",
     "height": 50
    },
    "colab_type": "code",
    "id": "GYegzsVVX3v3",
    "outputId": "a138f03a-08cd-439e-cbaf-c521df62d9d0"
   },
   "outputs": [
    {
     "name": "stdout",
     "output_type": "stream",
     "text": [
      "CPU times: user 8.33 s, sys: 5.48 s, total: 13.8 s\n",
      "Wall time: 7.03 s\n"
     ]
    }
   ],
   "source": [
    "np.random.seed(123456)\n",
    "num_topics = 20\n",
    "%time lda_model = models.LdaModel(corpus, num_topics=num_topics, \\\n",
    "                                  id2word=dictionary_LDA, \\\n",
    "                                  passes=4, alpha=[0.01]*num_topics, \\\n",
    "                                  eta=[0.01]*len(dictionary_LDA.keys()))"
   ]
  },
  {
   "cell_type": "markdown",
   "metadata": {
    "colab_type": "text",
    "id": "d6H-rcTKal9U"
   },
   "source": [
    "**20 topics and top 10 words**"
   ]
  },
  {
   "cell_type": "code",
   "execution_count": 70,
   "metadata": {
    "colab": {
     "base_uri": "https://localhost:8080/",
     "height": 709
    },
    "colab_type": "code",
    "id": "2VGXEJeVYAga",
    "outputId": "52796507-6872-4ac9-fbdf-af59c1fd588b"
   },
   "outputs": [
    {
     "name": "stdout",
     "output_type": "stream",
     "text": [
      "0: 0.006*\"vessel\" + 0.004*\"arm\" + 0.003*\"her\" + 0.003*\"former\" + 0.003*\"occasion\" + 0.003*\"officer\" + 0.003*\"object\" + 0.003*\"claim\" + 0.003*\"coast\" + 0.003*\"ought\" + 0.003*\"commission\" + 0.002*\"desirable\" + 0.002*\"admit\" + 0.002*\"sum\" + 0.002*\"article\" + 0.002*\"spain\" + 0.002*\"sea_men\" + 0.002*\"information\" + 0.002*\"enemy\" + 0.002*\"she\"\n",
      "\n",
      "1: 0.006*\"let\" + 0.005*\"why\" + 0.005*\"americans\" + 0.004*\"century\" + 0.004*\"tonight\" + 0.003*\"struggle\" + 0.003*\"budget\" + 0.003*\"commitment\" + 0.003*\"reform\" + 0.003*\"job\" + 0.002*\"next\" + 0.002*\"aggression\" + 0.002*\"try\" + 0.002*\"leadership\" + 0.002*\"achieve\" + 0.002*\"washington\" + 0.002*\"investment\" + 0.002*\"deficit\" + 0.002*\"afghanistan\" + 0.002*\"around\"\n",
      "\n",
      "2: 0.004*\"great_britain\" + 0.003*\"navy\" + 0.003*\"claim\" + 0.003*\"commence\" + 0.003*\"last_session\" + 0.003*\"portion\" + 0.003*\"colony\" + 0.002*\"object\" + 0.002*\"convention\" + 0.002*\"vessel\" + 0.002*\"burden\" + 0.002*\"estimate\" + 0.002*\"charge\" + 0.002*\"article\" + 0.002*\"bear\" + 0.002*\"commercial\" + 0.002*\"contribute\" + 0.002*\"survey\" + 0.002*\"negotiation\" + 0.002*\"receipt\"\n",
      "\n",
      "3: 0.006*\"claim\" + 0.005*\"award\" + 0.005*\"mexico\" + 0.005*\"convention\" + 0.005*\"commission\" + 0.005*\"representative\" + 0.004*\"territory\" + 0.003*\"attend\" + 0.003*\"china\" + 0.003*\"great_britain\" + 0.003*\"chile\" + 0.003*\"republic\" + 0.003*\"seem\" + 0.003*\"cuba\" + 0.003*\"july\" + 0.003*\"loan\" + 0.003*\"tribunal\" + 0.002*\"international\" + 0.002*\"mission\" + 0.002*\"executive\"\n",
      "\n",
      "4: 0.005*\"soviet_union\" + 0.004*\"americans\" + 0.004*\"percent\" + 0.003*\"job\" + 0.003*\"fight\" + 0.003*\"korea\" + 0.003*\"inflation\" + 0.003*\"major\" + 0.003*\"middle_east\" + 0.003*\"oil\" + 0.002*\"billion\" + 0.002*\"tonight\" + 0.002*\"goal\" + 0.002*\"vietnam\" + 0.002*\"burden\" + 0.002*\"budget\" + 0.002*\"past_year\" + 0.002*\"cut\" + 0.002*\"aggression\" + 0.002*\"conflict\"\n",
      "\n",
      "5: 0.004*\"claim\" + 0.004*\"great_britain\" + 0.003*\"commissioner\" + 0.003*\"loan\" + 0.003*\"object\" + 0.003*\"china\" + 0.003*\"mexico\" + 0.003*\"republic\" + 0.003*\"negotiation\" + 0.003*\"enemy\" + 0.003*\"officer\" + 0.003*\"consequence\" + 0.002*\"establishment\" + 0.002*\"appropriation\" + 0.002*\"her\" + 0.002*\"due\" + 0.002*\"render\" + 0.002*\"importance\" + 0.002*\"estimate\" + 0.002*\"sum\"\n",
      "\n",
      "6: 0.004*\"budget\" + 0.004*\"my_budget\" + 0.004*\"social_security\" + 0.004*\"americans\" + 0.004*\"reform\" + 0.003*\"tonight\" + 0.003*\"nations\" + 0.003*\"test\" + 0.003*\"tax_relief\" + 0.003*\"billion\" + 0.003*\"americas\" + 0.003*\"spend\" + 0.003*\"let\" + 0.002*\"medicare\" + 0.002*\"school\" + 0.002*\"surplus\" + 0.002*\"earn\" + 0.002*\"picture\" + 0.002*\"courage\" + 0.002*\"next_year\"\n",
      "\n",
      "7: 0.004*\"americans\" + 0.004*\"job\" + 0.004*\"fight\" + 0.004*\"challenge\" + 0.003*\"tonight\" + 0.003*\"back\" + 0.003*\"enemy\" + 0.003*\"school\" + 0.003*\"woman\" + 0.002*\"let\" + 0.002*\"attack\" + 0.002*\"weapon\" + 0.002*\"reform\" + 0.002*\"threat\" + 0.002*\"democracy\" + 0.002*\"goal\" + 0.002*\"why\" + 0.002*\"cut\" + 0.002*\"deficit\" + 0.002*\"terrorist\"\n",
      "\n",
      "8: 0.004*\"loan\" + 0.003*\"public_health\" + 0.003*\"banks\" + 0.003*\"welfare\" + 0.002*\"information\" + 0.002*\"agriculture\" + 0.002*\"emergency\" + 0.002*\"building\" + 0.002*\"month\" + 0.002*\"relief\" + 0.002*\"furnish\" + 0.002*\"agency\" + 0.002*\"july\" + 0.002*\"federal_government\" + 0.002*\"rate\" + 0.002*\"mobilize\" + 0.002*\"table\" + 0.002*\"winter\" + 0.002*\"conduct\" + 0.002*\"sum\"\n",
      "\n",
      "9: 0.007*\"americans\" + 0.006*\"iraq\" + 0.006*\"reform\" + 0.005*\"worker\" + 0.004*\"democracy\" + 0.004*\"terrorist\" + 0.004*\"woman\" + 0.004*\"sure\" + 0.004*\"social_security\" + 0.004*\"terror\" + 0.003*\"fight\" + 0.003*\"vote\" + 0.003*\"leader\" + 0.003*\"iraqis\" + 0.003*\"tonight\" + 0.003*\"enemy\" + 0.003*\"goal\" + 0.003*\"proud\" + 0.002*\"achieve\" + 0.002*\"generation\"\n",
      "\n",
      "10: 0.004*\"object\" + 0.003*\"claim\" + 0.003*\"spain\" + 0.002*\"last_session\" + 0.002*\"due\" + 0.002*\"officer\" + 0.002*\"territory\" + 0.002*\"vessel\" + 0.002*\"relation\" + 0.002*\"estimate\" + 0.002*\"minister\" + 0.002*\"thus\" + 0.002*\"article\" + 0.002*\"great_britain\" + 0.002*\"appropriation\" + 0.002*\"render\" + 0.002*\"circumstance\" + 0.002*\"port\" + 0.002*\"convention\" + 0.002*\"her\"\n",
      "\n",
      "11: 0.002*\"tonight\" + 0.002*\"job\" + 0.002*\"americans\" + 0.002*\"challenge\" + 0.002*\"democracy\" + 0.002*\"school\" + 0.002*\"budget\" + 0.002*\"reform\" + 0.002*\"bill\" + 0.002*\"her\" + 0.001*\"let\" + 0.001*\"goal\" + 0.001*\"speak\" + 0.001*\"century\" + 0.001*\"idea\" + 0.001*\"claim\" + 0.001*\"percent\" + 0.001*\"ought\" + 0.001*\"fight\" + 0.001*\"sure\"\n",
      "\n",
      "12: 0.005*\"tonight\" + 0.004*\"vietnam\" + 0.004*\"reform\" + 0.004*\"school\" + 0.004*\"job\" + 0.004*\"try\" + 0.004*\"americans\" + 0.003*\"stop\" + 0.003*\"let_us\" + 0.003*\"proposal\" + 0.003*\"iraq\" + 0.003*\"enemy\" + 0.003*\"rise\" + 0.003*\"crime\" + 0.002*\"welfare\" + 0.002*\"fight\" + 0.002*\"goal\" + 0.002*\"people_who\" + 0.002*\"billion\" + 0.002*\"back\"\n",
      "\n",
      "13: 0.003*\"ought\" + 0.003*\"method\" + 0.002*\"desire\" + 0.002*\"commission\" + 0.002*\"rate\" + 0.002*\"agriculture\" + 0.002*\"transportation\" + 0.002*\"farmer\" + 0.002*\"navy\" + 0.002*\"relief\" + 0.002*\"reduction\" + 0.002*\"army\" + 0.002*\"undertake\" + 0.002*\"employment\" + 0.002*\"task\" + 0.002*\"seem\" + 0.002*\"speak\" + 0.002*\"importance\" + 0.002*\"republic\" + 0.002*\"thus\"\n",
      "\n",
      "14: 0.004*\"budget\" + 0.004*\"tonight\" + 0.003*\"billion\" + 0.003*\"job\" + 0.003*\"goal\" + 0.003*\"school\" + 0.003*\"americans\" + 0.003*\"percent\" + 0.003*\"achieve\" + 0.003*\"century\" + 0.003*\"challenge\" + 0.003*\"inflation\" + 0.002*\"federal_government\" + 0.002*\"major\" + 0.002*\"worker\" + 0.002*\"area\" + 0.002*\"level\" + 0.002*\"deficit\" + 0.002*\"commitment\" + 0.002*\"reform\"\n",
      "\n",
      "15: 0.002*\"americans\" + 0.002*\"tonight\" + 0.002*\"job\" + 0.002*\"reform\" + 0.002*\"school\" + 0.001*\"claim\" + 0.001*\"challenge\" + 0.001*\"object\" + 0.001*\"goal\" + 0.001*\"enemy\" + 0.001*\"attack\" + 0.001*\"ought\" + 0.001*\"vessel\" + 0.001*\"executive\" + 0.001*\"century\" + 0.001*\"percent\" + 0.001*\"navy\" + 0.001*\"federal_government\" + 0.001*\"desire\" + 0.001*\"fight\"\n",
      "\n",
      "16: 0.003*\"pennsylvania\" + 0.002*\"object\" + 0.002*\"job\" + 0.002*\"inspector\" + 0.002*\"claim\" + 0.001*\"army\" + 0.001*\"navy\" + 0.001*\"school\" + 0.001*\"americans\" + 0.001*\"her\" + 0.001*\"thus\" + 0.001*\"challenge\" + 0.001*\"arm\" + 0.001*\"attack\" + 0.001*\"desire\" + 0.001*\"welfare\" + 0.001*\"territory\" + 0.001*\"great_britain\" + 0.001*\"let\" + 0.001*\"occasion\"\n",
      "\n",
      "17: 0.007*\"cut\" + 0.006*\"investment\" + 0.006*\"job\" + 0.004*\"americans\" + 0.004*\"deficit\" + 0.004*\"percent\" + 0.004*\"income\" + 0.003*\"real\" + 0.003*\"worker\" + 0.003*\"budget\" + 0.003*\"debt\" + 0.003*\"goal\" + 0.003*\"health_care\" + 0.003*\"invest\" + 0.003*\"spend\" + 0.003*\"back\" + 0.003*\"tonight\" + 0.003*\"deal_with\" + 0.003*\"area\" + 0.003*\"achieve\"\n",
      "\n",
      "18: 0.004*\"vessel\" + 0.002*\"debt\" + 0.002*\"discharge\" + 0.002*\"commission\" + 0.002*\"estimate\" + 0.002*\"claim\" + 0.002*\"job\" + 0.002*\"office\" + 0.002*\"employ\" + 0.002*\"circumstance\" + 0.002*\"our_fisherman\" + 0.002*\"reform\" + 0.002*\"save\" + 0.002*\"appointment\" + 0.002*\"convention\" + 0.002*\"navigation\" + 0.002*\"executive\" + 0.002*\"civil_service\" + 0.002*\"officer\" + 0.002*\"object\"\n",
      "\n",
      "19: 0.008*\"bank\" + 0.006*\"enemy\" + 0.005*\"credit\" + 0.005*\"emergency\" + 0.003*\"agriculture\" + 0.003*\"officer\" + 0.003*\"recommendation\" + 0.003*\"capital\" + 0.003*\"command\" + 0.003*\"thus\" + 0.003*\"past_year\" + 0.002*\"unemployment\" + 0.002*\"construction\" + 0.002*\"militia\" + 0.002*\"otherwise\" + 0.002*\"her\" + 0.002*\"suggest\" + 0.002*\"conduct\" + 0.002*\"ship\" + 0.002*\"gain\"\n",
      "\n"
     ]
    }
   ],
   "source": [
    "for i,topic in lda_model.show_topics(formatted=True, num_topics=num_topics, num_words=20):\n",
    "    print(str(i)+\": \"+ topic)\n",
    "    print()"
   ]
  },
  {
   "cell_type": "code",
   "execution_count": 53,
   "metadata": {
    "colab": {
     "base_uri": "https://localhost:8080/",
     "height": 202
    },
    "colab_type": "code",
    "id": "ECiPS6hpYG_E",
    "outputId": "79c09a7a-0d91-4baa-81ec-5576bd97f98c"
   },
   "outputs": [
    {
     "name": "stdout",
     "output_type": "stream",
     "text": [
      "George Washington\n",
      "January 8, 1790\n",
      "\n",
      "Fellow-Citizens of the Senate and House of Representatives:\n",
      "\n",
      "I embrace with great satisfaction the opportunity which now presents itself\n",
      "of congratulating you on the present favorable prospects of our public\n",
      "affairs. The recent accession of the important state of North Carolina to\n",
      "the Constitution of the United States (of which official information has\n",
      "been received), the rising credit and respectability of our country, the\n",
      "general and increasing good will towa\n"
     ]
    }
   ],
   "source": [
    "print(state_of_the_union_data.text.loc[0][:500])"
   ]
  },
  {
   "cell_type": "code",
   "execution_count": 54,
   "metadata": {
    "colab": {
     "base_uri": "https://localhost:8080/",
     "height": 34
    },
    "colab_type": "code",
    "id": "eOn3sNFPYOif",
    "outputId": "7e811b89-93d7-4797-df68-3c59d5efa7e2"
   },
   "outputs": [
    {
     "data": {
      "text/plain": [
       "[(10, 0.9992584)]"
      ]
     },
     "execution_count": 54,
     "metadata": {
      "tags": []
     },
     "output_type": "execute_result"
    }
   ],
   "source": [
    "lda_model[corpus[0]]"
   ]
  },
  {
   "cell_type": "code",
   "execution_count": 0,
   "metadata": {
    "colab": {},
    "colab_type": "code",
    "id": "9lRUhe11YcK5"
   },
   "outputs": [],
   "source": [
    "topics = [lda_model[corpus[i]] for i in range(len(state_of_the_union_data))]"
   ]
  },
  {
   "cell_type": "markdown",
   "metadata": {
    "colab_type": "text",
    "id": "QXSGW2psYtTR"
   },
   "source": [
    "**Advanced exploration**"
   ]
  },
  {
   "cell_type": "code",
   "execution_count": 58,
   "metadata": {
    "colab": {
     "base_uri": "https://localhost:8080/",
     "height": 77
    },
    "colab_type": "code",
    "id": "LT4tOSbtYzDy",
    "outputId": "8d707acf-a836-483f-fcab-c41e9ecda43d"
   },
   "outputs": [
    {
     "data": {
      "text/html": [
       "<div>\n",
       "<style scoped>\n",
       "    .dataframe tbody tr th:only-of-type {\n",
       "        vertical-align: middle;\n",
       "    }\n",
       "\n",
       "    .dataframe tbody tr th {\n",
       "        vertical-align: top;\n",
       "    }\n",
       "\n",
       "    .dataframe thead th {\n",
       "        text-align: right;\n",
       "    }\n",
       "</style>\n",
       "<table border=\"1\" class=\"dataframe\">\n",
       "  <thead>\n",
       "    <tr style=\"text-align: right;\">\n",
       "      <th></th>\n",
       "      <th>0</th>\n",
       "      <th>1</th>\n",
       "      <th>2</th>\n",
       "      <th>3</th>\n",
       "      <th>4</th>\n",
       "      <th>5</th>\n",
       "      <th>6</th>\n",
       "      <th>7</th>\n",
       "      <th>8</th>\n",
       "      <th>9</th>\n",
       "      <th>10</th>\n",
       "      <th>11</th>\n",
       "      <th>12</th>\n",
       "      <th>13</th>\n",
       "      <th>14</th>\n",
       "      <th>15</th>\n",
       "      <th>16</th>\n",
       "      <th>17</th>\n",
       "      <th>18</th>\n",
       "      <th>19</th>\n",
       "    </tr>\n",
       "  </thead>\n",
       "  <tbody>\n",
       "    <tr>\n",
       "      <th>0</th>\n",
       "      <td>NaN</td>\n",
       "      <td>NaN</td>\n",
       "      <td>NaN</td>\n",
       "      <td>NaN</td>\n",
       "      <td>NaN</td>\n",
       "      <td>NaN</td>\n",
       "      <td>NaN</td>\n",
       "      <td>NaN</td>\n",
       "      <td>NaN</td>\n",
       "      <td>0.0385366</td>\n",
       "      <td>NaN</td>\n",
       "      <td>NaN</td>\n",
       "      <td>NaN</td>\n",
       "      <td>NaN</td>\n",
       "      <td>NaN</td>\n",
       "      <td>0.0913012</td>\n",
       "      <td>NaN</td>\n",
       "      <td>NaN</td>\n",
       "      <td>0.869287</td>\n",
       "      <td>NaN</td>\n",
       "    </tr>\n",
       "  </tbody>\n",
       "</table>\n",
       "</div>"
      ],
      "text/plain": [
       "    0    1    2    3    4    5   ...   14         15   16   17        18   19\n",
       "0  NaN  NaN  NaN  NaN  NaN  NaN  ...  NaN  0.0913012  NaN  NaN  0.869287  NaN\n",
       "\n",
       "[1 rows x 20 columns]"
      ]
     },
     "execution_count": 58,
     "metadata": {
      "tags": []
     },
     "output_type": "execute_result"
    }
   ],
   "source": [
    "def topics_document_to_dataframe(topics_document, num_topics):\n",
    "    res = pd.DataFrame(columns=range(num_topics))\n",
    "    for topic_weight in topics_document:\n",
    "        res.loc[0, topic_weight[0]] = topic_weight[1]\n",
    "    return res\n",
    "\n",
    "topics_document_to_dataframe([(9, 0.03853655432967504), (15, 0.09130117862212643), (18, 0.8692868808484044)], 20)"
   ]
  },
  {
   "cell_type": "code",
   "execution_count": 0,
   "metadata": {
    "colab": {},
    "colab_type": "code",
    "id": "OUkADJN1Y_o3"
   },
   "outputs": [],
   "source": [
    "# Like TF-IDF, create a matrix of topic weighting, with documents as rows and topics as columns\n",
    "document_topic = \\\n",
    "pd.concat([topics_document_to_dataframe(topics_document, num_topics=num_topics) for topics_document in topics]) \\\n",
    "  .reset_index(drop=True).fillna(0)"
   ]
  },
  {
   "cell_type": "code",
   "execution_count": 60,
   "metadata": {
    "colab": {
     "base_uri": "https://localhost:8080/",
     "height": 195
    },
    "colab_type": "code",
    "id": "7lOIUEgyZDY3",
    "outputId": "7c045535-42e7-4967-cd15-f1815d63119f"
   },
   "outputs": [
    {
     "data": {
      "text/html": [
       "<div>\n",
       "<style scoped>\n",
       "    .dataframe tbody tr th:only-of-type {\n",
       "        vertical-align: middle;\n",
       "    }\n",
       "\n",
       "    .dataframe tbody tr th {\n",
       "        vertical-align: top;\n",
       "    }\n",
       "\n",
       "    .dataframe thead th {\n",
       "        text-align: right;\n",
       "    }\n",
       "</style>\n",
       "<table border=\"1\" class=\"dataframe\">\n",
       "  <thead>\n",
       "    <tr style=\"text-align: right;\">\n",
       "      <th></th>\n",
       "      <th>0</th>\n",
       "      <th>1</th>\n",
       "      <th>2</th>\n",
       "      <th>3</th>\n",
       "      <th>4</th>\n",
       "      <th>5</th>\n",
       "      <th>6</th>\n",
       "      <th>7</th>\n",
       "      <th>8</th>\n",
       "      <th>9</th>\n",
       "      <th>10</th>\n",
       "      <th>11</th>\n",
       "      <th>12</th>\n",
       "      <th>13</th>\n",
       "      <th>14</th>\n",
       "      <th>15</th>\n",
       "      <th>16</th>\n",
       "      <th>17</th>\n",
       "      <th>18</th>\n",
       "      <th>19</th>\n",
       "    </tr>\n",
       "  </thead>\n",
       "  <tbody>\n",
       "    <tr>\n",
       "      <th>0</th>\n",
       "      <td>0.000000</td>\n",
       "      <td>0.0</td>\n",
       "      <td>0.0</td>\n",
       "      <td>0.0</td>\n",
       "      <td>0.0</td>\n",
       "      <td>0.000000</td>\n",
       "      <td>0.0</td>\n",
       "      <td>0.0</td>\n",
       "      <td>0.0</td>\n",
       "      <td>0.0</td>\n",
       "      <td>0.999258</td>\n",
       "      <td>0</td>\n",
       "      <td>0.0</td>\n",
       "      <td>0.000000</td>\n",
       "      <td>0.0</td>\n",
       "      <td>0</td>\n",
       "      <td>0.0</td>\n",
       "      <td>0.0</td>\n",
       "      <td>0.0</td>\n",
       "      <td>0.0</td>\n",
       "    </tr>\n",
       "    <tr>\n",
       "      <th>1</th>\n",
       "      <td>0.000000</td>\n",
       "      <td>0.0</td>\n",
       "      <td>0.0</td>\n",
       "      <td>0.0</td>\n",
       "      <td>0.0</td>\n",
       "      <td>0.000000</td>\n",
       "      <td>0.0</td>\n",
       "      <td>0.0</td>\n",
       "      <td>0.0</td>\n",
       "      <td>0.0</td>\n",
       "      <td>0.999423</td>\n",
       "      <td>0</td>\n",
       "      <td>0.0</td>\n",
       "      <td>0.000000</td>\n",
       "      <td>0.0</td>\n",
       "      <td>0</td>\n",
       "      <td>0.0</td>\n",
       "      <td>0.0</td>\n",
       "      <td>0.0</td>\n",
       "      <td>0.0</td>\n",
       "    </tr>\n",
       "    <tr>\n",
       "      <th>2</th>\n",
       "      <td>0.000000</td>\n",
       "      <td>0.0</td>\n",
       "      <td>0.0</td>\n",
       "      <td>0.0</td>\n",
       "      <td>0.0</td>\n",
       "      <td>0.095962</td>\n",
       "      <td>0.0</td>\n",
       "      <td>0.0</td>\n",
       "      <td>0.0</td>\n",
       "      <td>0.0</td>\n",
       "      <td>0.851464</td>\n",
       "      <td>0</td>\n",
       "      <td>0.0</td>\n",
       "      <td>0.052263</td>\n",
       "      <td>0.0</td>\n",
       "      <td>0</td>\n",
       "      <td>0.0</td>\n",
       "      <td>0.0</td>\n",
       "      <td>0.0</td>\n",
       "      <td>0.0</td>\n",
       "    </tr>\n",
       "    <tr>\n",
       "      <th>3</th>\n",
       "      <td>0.000000</td>\n",
       "      <td>0.0</td>\n",
       "      <td>0.0</td>\n",
       "      <td>0.0</td>\n",
       "      <td>0.0</td>\n",
       "      <td>0.065148</td>\n",
       "      <td>0.0</td>\n",
       "      <td>0.0</td>\n",
       "      <td>0.0</td>\n",
       "      <td>0.0</td>\n",
       "      <td>0.779687</td>\n",
       "      <td>0</td>\n",
       "      <td>0.0</td>\n",
       "      <td>0.154818</td>\n",
       "      <td>0.0</td>\n",
       "      <td>0</td>\n",
       "      <td>0.0</td>\n",
       "      <td>0.0</td>\n",
       "      <td>0.0</td>\n",
       "      <td>0.0</td>\n",
       "    </tr>\n",
       "    <tr>\n",
       "      <th>4</th>\n",
       "      <td>0.217577</td>\n",
       "      <td>0.0</td>\n",
       "      <td>0.0</td>\n",
       "      <td>0.0</td>\n",
       "      <td>0.0</td>\n",
       "      <td>0.000000</td>\n",
       "      <td>0.0</td>\n",
       "      <td>0.0</td>\n",
       "      <td>0.0</td>\n",
       "      <td>0.0</td>\n",
       "      <td>0.782050</td>\n",
       "      <td>0</td>\n",
       "      <td>0.0</td>\n",
       "      <td>0.000000</td>\n",
       "      <td>0.0</td>\n",
       "      <td>0</td>\n",
       "      <td>0.0</td>\n",
       "      <td>0.0</td>\n",
       "      <td>0.0</td>\n",
       "      <td>0.0</td>\n",
       "    </tr>\n",
       "  </tbody>\n",
       "</table>\n",
       "</div>"
      ],
      "text/plain": [
       "         0    1    2    3    4         5   ...   14  15   16   17   18   19\n",
       "0  0.000000  0.0  0.0  0.0  0.0  0.000000  ...  0.0   0  0.0  0.0  0.0  0.0\n",
       "1  0.000000  0.0  0.0  0.0  0.0  0.000000  ...  0.0   0  0.0  0.0  0.0  0.0\n",
       "2  0.000000  0.0  0.0  0.0  0.0  0.095962  ...  0.0   0  0.0  0.0  0.0  0.0\n",
       "3  0.000000  0.0  0.0  0.0  0.0  0.065148  ...  0.0   0  0.0  0.0  0.0  0.0\n",
       "4  0.217577  0.0  0.0  0.0  0.0  0.000000  ...  0.0   0  0.0  0.0  0.0  0.0\n",
       "\n",
       "[5 rows x 20 columns]"
      ]
     },
     "execution_count": 60,
     "metadata": {
      "tags": []
     },
     "output_type": "execute_result"
    }
   ],
   "source": [
    "document_topic.head()"
   ]
  },
  {
   "cell_type": "code",
   "execution_count": 61,
   "metadata": {
    "colab": {
     "base_uri": "https://localhost:8080/",
     "height": 370
    },
    "colab_type": "code",
    "id": "MLo36dpNZHbo",
    "outputId": "e6343cf7-ed0a-41b4-9449-d35752f1fecd"
   },
   "outputs": [
    {
     "data": {
      "text/plain": [
       "111    0.999819\n",
       "121    0.999807\n",
       "114    0.999785\n",
       "140    0.996863\n",
       "119    0.996442\n",
       "117    0.996166\n",
       "138    0.994493\n",
       "112    0.920222\n",
       "127    0.910494\n",
       "103    0.882648\n",
       "125    0.871787\n",
       "113    0.866186\n",
       "90     0.861454\n",
       "131    0.851092\n",
       "96     0.807323\n",
       "105    0.798687\n",
       "108    0.746438\n",
       "106    0.742577\n",
       "118    0.734958\n",
       "91     0.732035\n",
       "Name: 14, dtype: float64"
      ]
     },
     "execution_count": 61,
     "metadata": {
      "tags": []
     },
     "output_type": "execute_result"
    }
   ],
   "source": [
    "# Which document are about topic 14\n",
    "document_topic.sort_values(14, ascending=False)[14].head(20)"
   ]
  },
  {
   "cell_type": "code",
   "execution_count": 64,
   "metadata": {
    "colab": {
     "base_uri": "https://localhost:8080/",
     "height": 437
    },
    "colab_type": "code",
    "id": "nmTnhQN1ZLVU",
    "outputId": "344cce10-3d0a-4d88-d77d-8b254ed6525c"
   },
   "outputs": [
    {
     "name": "stdout",
     "output_type": "stream",
     "text": [
      "\n",
      "State of the Union Address\n",
      "Harry S. Truman\n",
      "January 7, 1948\n",
      "\n",
      "Mr. President, Mr. Speaker, and Members of the 80th Congress:\n",
      "\n",
      "We are here today to consider the state of the Union.\n",
      "\n",
      "On this occasion, above all others, the Congress and the President should\n",
      "concentrate their attention, not upon party but upon the country; not upon\n",
      "things which divide us but upon those which bind us together--the enduring\n",
      "principles of our American system, and our common aspirations for the\n",
      "future welfare and security of the people of the United States.\n",
      "\n",
      "The United States has become great because [p.2] we, as a people, have been\n",
      "able to work together for great objectives even while differing about\n",
      "details.\n",
      "\n",
      "The elements of our strength are many. They include our democratic\n",
      "government, our economic system, our great natural resources. But these are\n",
      "only partial explanations.\n",
      "\n",
      "The basic source of our strength is spiritual. For we are a people with a\n",
      "faith. We believe in the dignity of man. We believe that he w\n"
     ]
    }
   ],
   "source": [
    "print(state_of_the_union_data.text.loc[91][:1000])"
   ]
  },
  {
   "cell_type": "code",
   "execution_count": 65,
   "metadata": {
    "colab": {
     "base_uri": "https://localhost:8080/",
     "height": 1000
    },
    "colab_type": "code",
    "id": "8JkM7WFdZTWx",
    "outputId": "32087919-efd0-4f6c-842f-b38d33d625bf"
   },
   "outputs": [
    {
     "data": {
      "text/plain": [
       "<matplotlib.axes._subplots.AxesSubplot at 0x7f34ce621f60>"
      ]
     },
     "execution_count": 65,
     "metadata": {
      "tags": []
     },
     "output_type": "execute_result"
    },
    {
     "data": {
      "image/png": "[encoded data removed]",
      "text/plain": [
       "<Figure size 720x1440 with 2 Axes>"
      ]
     },
     "metadata": {
      "tags": []
     },
     "output_type": "display_data"
    }
   ],
   "source": [
    "%matplotlib inline\n",
    "import seaborn as sns; sns.set(rc={'figure.figsize':(10,20)})\n",
    "sns.heatmap(document_topic.loc[document_topic.idxmax(axis=1).sort_values().index])"
   ]
  },
  {
   "cell_type": "code",
   "execution_count": 66,
   "metadata": {
    "colab": {
     "base_uri": "https://localhost:8080/",
     "height": 343
    },
    "colab_type": "code",
    "id": "KiHsSW3jZamR",
    "outputId": "7ab5073f-cf2d-4404-ead0-2300ee3b31ba"
   },
   "outputs": [
    {
     "data": {
      "text/plain": [
       "<matplotlib.axes._subplots.AxesSubplot at 0x7f34cd238630>"
      ]
     },
     "execution_count": 66,
     "metadata": {
      "tags": []
     },
     "output_type": "execute_result"
    },
    {
     "data": {
      "image/png": "[encoded data removed]",
      "text/plain": [
       "<Figure size 720x360 with 1 Axes>"
      ]
     },
     "metadata": {
      "tags": []
     },
     "output_type": "display_data"
    }
   ],
   "source": [
    "sns.set(rc={'figure.figsize':(10,5)})\n",
    "document_topic.idxmax(axis=1).value_counts().plot.bar(color='lightblue')"
   ]
  },
  {
   "cell_type": "code",
   "execution_count": 0,
   "metadata": {
    "colab": {},
    "colab_type": "code",
    "id": "6KyufQZxZq03"
   },
   "outputs": [],
   "source": [
    "pip install pyLDAvis"
   ]
  },
  {
   "cell_type": "code",
   "execution_count": 0,
   "metadata": {
    "colab": {},
    "colab_type": "code",
    "id": "PV20ogYhZeg8"
   },
   "outputs": [],
   "source": [
    "# Here a short legend to explain the vis:\n",
    "# size of bubble: proportional to the proportions of the topics across the N total tokens in the corpus\n",
    "# red bars: estimated number of times a given term was generated by a given topic\n",
    "# blue bars: overall frequency of each term in the corpus\n",
    "# -- Relevance of words is computed with a parameter lambda\n",
    "# -- Lambda optimal value ~0.6 (https://nlp.stanford.edu/events/illvi2014/papers/sievert-illvi2014.pdf)\n",
    "%matplotlib inline\n",
    "import pyLDAvis\n",
    "import pyLDAvis.gensim\n",
    "vis = pyLDAvis.gensim.prepare(topic_model=lda_model, corpus=corpus, dictionary=dictionary_LDA)\n",
    "pyLDAvis.enable_notebook()\n",
    "pyLDAvis.display(vis)"
   ]
  }
 ],
 "metadata": {
  "colab": {
   "collapsed_sections": [],
   "name": "state_of_union.ipynb",
   "provenance": []
  },
  "kernelspec": {
   "display_name": "Python 3",
   "language": "python",
   "name": "python3"
  },
  "language_info": {
   "codemirror_mode": {
    "name": "ipython",
    "version": 3
   },
   "file_extension": ".py",
   "mimetype": "text/x-python",
   "name": "python",
   "nbconvert_exporter": "python",
   "pygments_lexer": "ipython3",
   "version": "3.8.5"
  },
  "widgets": {
   "application/vnd.jupyter.widget-state+json": {
    "06d3f97ffc7542c68e958863d1fe2e7a": {
     "model_module": "@jupyter-widgets/controls",
     "model_name": "FloatProgressModel",
     "state": {
      "_dom_classes": [],
      "_model_module": "@jupyter-widgets/controls",
      "_model_module_version": "1.5.0",
      "_model_name": "FloatProgressModel",
      "_view_count": null,
      "_view_module": "@jupyter-widgets/controls",
      "_view_module_version": "1.5.0",
      "_view_name": "ProgressView",
      "bar_style": "success",
      "description": "100%",
      "description_tooltip": null,
      "layout": "IPY_MODEL_ad0a80dd40d74ae5a84ff987a3998163",
      "max": 155,
      "min": 0,
      "orientation": "horizontal",
      "style": "IPY_MODEL_37a68d36718b4a5a86bf8c80021b3093",
      "value": 155
     }
    },
    "17743f6aa3744b97a78cf392a65f3454": {
     "model_module": "@jupyter-widgets/base",
     "model_name": "LayoutModel",
     "state": {
      "_model_module": "@jupyter-widgets/base",
      "_model_module_version": "1.2.0",
      "_model_name": "LayoutModel",
      "_view_count": null,
      "_view_module": "@jupyter-widgets/base",
      "_view_module_version": "1.2.0",
      "_view_name": "LayoutView",
      "align_content": null,
      "align_items": null,
      "align_self": null,
      "border": null,
      "bottom": null,
      "display": null,
      "flex": null,
      "flex_flow": null,
      "grid_area": null,
      "grid_auto_columns": null,
      "grid_auto_flow": null,
      "grid_auto_rows": null,
      "grid_column": null,
      "grid_gap": null,
      "grid_row": null,
      "grid_template_areas": null,
      "grid_template_columns": null,
      "grid_template_rows": null,
      "height": null,
      "justify_content": null,
      "justify_items": null,
      "left": null,
      "margin": null,
      "max_height": null,
      "max_width": null,
      "min_height": null,
      "min_width": null,
      "object_fit": null,
      "object_position": null,
      "order": null,
      "overflow": null,
      "overflow_x": null,
      "overflow_y": null,
      "padding": null,
      "right": null,
      "top": null,
      "visibility": null,
      "width": null
     }
    },
    "1acc915c00bf48fba35e8796f6b1f5bd": {
     "model_module": "@jupyter-widgets/controls",
     "model_name": "HBoxModel",
     "state": {
      "_dom_classes": [],
      "_model_module": "@jupyter-widgets/controls",
      "_model_module_version": "1.5.0",
      "_model_name": "HBoxModel",
      "_view_count": null,
      "_view_module": "@jupyter-widgets/controls",
      "_view_module_version": "1.5.0",
      "_view_name": "HBoxView",
      "box_style": "",
      "children": [
       "IPY_MODEL_06d3f97ffc7542c68e958863d1fe2e7a",
       "IPY_MODEL_6791da0811f041058d6b5b844abcaab2"
      ],
      "layout": "IPY_MODEL_5d011a93c185465d97db4a5432778651"
     }
    },
    "37a68d36718b4a5a86bf8c80021b3093": {
     "model_module": "@jupyter-widgets/controls",
     "model_name": "ProgressStyleModel",
     "state": {
      "_model_module": "@jupyter-widgets/controls",
      "_model_module_version": "1.5.0",
      "_model_name": "ProgressStyleModel",
      "_view_count": null,
      "_view_module": "@jupyter-widgets/base",
      "_view_module_version": "1.2.0",
      "_view_name": "StyleView",
      "bar_color": null,
      "description_width": "initial"
     }
    },
    "3d3fa86f2e984ca4809382f8e0f0642e": {
     "model_module": "@jupyter-widgets/base",
     "model_name": "LayoutModel",
     "state": {
      "_model_module": "@jupyter-widgets/base",
      "_model_module_version": "1.2.0",
      "_model_name": "LayoutModel",
      "_view_count": null,
      "_view_module": "@jupyter-widgets/base",
      "_view_module_version": "1.2.0",
      "_view_name": "LayoutView",
      "align_content": null,
      "align_items": null,
      "align_self": null,
      "border": null,
      "bottom": null,
      "display": null,
      "flex": null,
      "flex_flow": null,
      "grid_area": null,
      "grid_auto_columns": null,
      "grid_auto_flow": null,
      "grid_auto_rows": null,
      "grid_column": null,
      "grid_gap": null,
      "grid_row": null,
      "grid_template_areas": null,
      "grid_template_columns": null,
      "grid_template_rows": null,
      "height": null,
      "justify_content": null,
      "justify_items": null,
      "left": null,
      "margin": null,
      "max_height": null,
      "max_width": null,
      "min_height": null,
      "min_width": null,
      "object_fit": null,
      "object_position": null,
      "order": null,
      "overflow": null,
      "overflow_x": null,
      "overflow_y": null,
      "padding": null,
      "right": null,
      "top": null,
      "visibility": null,
      "width": null
     }
    },
    "43f71e9de039486c8d66c238b2a82069": {
     "model_module": "@jupyter-widgets/controls",
     "model_name": "ProgressStyleModel",
     "state": {
      "_model_module": "@jupyter-widgets/controls",
      "_model_module_version": "1.5.0",
      "_model_name": "ProgressStyleModel",
      "_view_count": null,
      "_view_module": "@jupyter-widgets/base",
      "_view_module_version": "1.2.0",
      "_view_name": "StyleView",
      "bar_color": null,
      "description_width": "initial"
     }
    },
    "48df36d342744830a07a71d58e6bf5cc": {
     "model_module": "@jupyter-widgets/controls",
     "model_name": "HBoxModel",
     "state": {
      "_dom_classes": [],
      "_model_module": "@jupyter-widgets/controls",
      "_model_module_version": "1.5.0",
      "_model_name": "HBoxModel",
      "_view_count": null,
      "_view_module": "@jupyter-widgets/controls",
      "_view_module_version": "1.5.0",
      "_view_name": "HBoxView",
      "box_style": "",
      "children": [
       "IPY_MODEL_aac67e55f3b749e8a8eda966a7599bcb",
       "IPY_MODEL_c2266e2d8274455c99e79cdcc8c5cab0"
      ],
      "layout": "IPY_MODEL_5f25214c05aa48a0b2af18e27cb8a253"
     }
    },
    "4fc690698ae5483388cc5d4728b76a18": {
     "model_module": "@jupyter-widgets/controls",
     "model_name": "HTMLModel",
     "state": {
      "_dom_classes": [],
      "_model_module": "@jupyter-widgets/controls",
      "_model_module_version": "1.5.0",
      "_model_name": "HTMLModel",
      "_view_count": null,
      "_view_module": "@jupyter-widgets/controls",
      "_view_module_version": "1.5.0",
      "_view_name": "HTMLView",
      "description": "",
      "description_tooltip": null,
      "layout": "IPY_MODEL_17743f6aa3744b97a78cf392a65f3454",
      "placeholder": "​",
      "style": "IPY_MODEL_fb4f1d0da5e241469ad41288bf1a051d",
      "value": " 155/155 [01:48&lt;00:00,  1.43it/s]"
     }
    },
    "58796c8b228d40f7917beed6697e75b3": {
     "model_module": "@jupyter-widgets/controls",
     "model_name": "DescriptionStyleModel",
     "state": {
      "_model_module": "@jupyter-widgets/controls",
      "_model_module_version": "1.5.0",
      "_model_name": "DescriptionStyleModel",
      "_view_count": null,
      "_view_module": "@jupyter-widgets/base",
      "_view_module_version": "1.2.0",
      "_view_name": "StyleView",
      "description_width": ""
     }
    },
    "5d011a93c185465d97db4a5432778651": {
     "model_module": "@jupyter-widgets/base",
     "model_name": "LayoutModel",
     "state": {
      "_model_module": "@jupyter-widgets/base",
      "_model_module_version": "1.2.0",
      "_model_name": "LayoutModel",
      "_view_count": null,
      "_view_module": "@jupyter-widgets/base",
      "_view_module_version": "1.2.0",
      "_view_name": "LayoutView",
      "align_content": null,
      "align_items": null,
      "align_self": null,
      "border": null,
      "bottom": null,
      "display": null,
      "flex": null,
      "flex_flow": null,
      "grid_area": null,
      "grid_auto_columns": null,
      "grid_auto_flow": null,
      "grid_auto_rows": null,
      "grid_column": null,
      "grid_gap": null,
      "grid_row": null,
      "grid_template_areas": null,
      "grid_template_columns": null,
      "grid_template_rows": null,
      "height": null,
      "justify_content": null,
      "justify_items": null,
      "left": null,
      "margin": null,
      "max_height": null,
      "max_width": null,
      "min_height": null,
      "min_width": null,
      "object_fit": null,
      "object_position": null,
      "order": null,
      "overflow": null,
      "overflow_x": null,
      "overflow_y": null,
      "padding": null,
      "right": null,
      "top": null,
      "visibility": null,
      "width": null
     }
    },
    "5f25214c05aa48a0b2af18e27cb8a253": {
     "model_module": "@jupyter-widgets/base",
     "model_name": "LayoutModel",
     "state": {
      "_model_module": "@jupyter-widgets/base",
      "_model_module_version": "1.2.0",
      "_model_name": "LayoutModel",
      "_view_count": null,
      "_view_module": "@jupyter-widgets/base",
      "_view_module_version": "1.2.0",
      "_view_name": "LayoutView",
      "align_content": null,
      "align_items": null,
      "align_self": null,
      "border": null,
      "bottom": null,
      "display": null,
      "flex": null,
      "flex_flow": null,
      "grid_area": null,
      "grid_auto_columns": null,
      "grid_auto_flow": null,
      "grid_auto_rows": null,
      "grid_column": null,
      "grid_gap": null,
      "grid_row": null,
      "grid_template_areas": null,
      "grid_template_columns": null,
      "grid_template_rows": null,
      "height": null,
      "justify_content": null,
      "justify_items": null,
      "left": null,
      "margin": null,
      "max_height": null,
      "max_width": null,
      "min_height": null,
      "min_width": null,
      "object_fit": null,
      "object_position": null,
      "order": null,
      "overflow": null,
      "overflow_x": null,
      "overflow_y": null,
      "padding": null,
      "right": null,
      "top": null,
      "visibility": null,
      "width": null
     }
    },
    "64866bd9f0484b02b556d893c61eeb5a": {
     "model_module": "@jupyter-widgets/controls",
     "model_name": "FloatProgressModel",
     "state": {
      "_dom_classes": [],
      "_model_module": "@jupyter-widgets/controls",
      "_model_module_version": "1.5.0",
      "_model_name": "FloatProgressModel",
      "_view_count": null,
      "_view_module": "@jupyter-widgets/controls",
      "_view_module_version": "1.5.0",
      "_view_name": "ProgressView",
      "bar_style": "success",
      "description": "100%",
      "description_tooltip": null,
      "layout": "IPY_MODEL_c5faf5d6e8234c89829a5e29677684db",
      "max": 155,
      "min": 0,
      "orientation": "horizontal",
      "style": "IPY_MODEL_e7e0252571ed4998bc544f403d57ed83",
      "value": 155
     }
    },
    "6791da0811f041058d6b5b844abcaab2": {
     "model_module": "@jupyter-widgets/controls",
     "model_name": "HTMLModel",
     "state": {
      "_dom_classes": [],
      "_model_module": "@jupyter-widgets/controls",
      "_model_module_version": "1.5.0",
      "_model_name": "HTMLModel",
      "_view_count": null,
      "_view_module": "@jupyter-widgets/controls",
      "_view_module_version": "1.5.0",
      "_view_name": "HTMLView",
      "description": "",
      "description_tooltip": null,
      "layout": "IPY_MODEL_7ec46f48f1d54036846d0b0f356fa774",
      "placeholder": "​",
      "style": "IPY_MODEL_58796c8b228d40f7917beed6697e75b3",
      "value": " 155/155 [01:49&lt;00:00,  1.41it/s]"
     }
    },
    "76d8039e8c99463f830c236cd868e62e": {
     "model_module": "@jupyter-widgets/base",
     "model_name": "LayoutModel",
     "state": {
      "_model_module": "@jupyter-widgets/base",
      "_model_module_version": "1.2.0",
      "_model_name": "LayoutModel",
      "_view_count": null,
      "_view_module": "@jupyter-widgets/base",
      "_view_module_version": "1.2.0",
      "_view_name": "LayoutView",
      "align_content": null,
      "align_items": null,
      "align_self": null,
      "border": null,
      "bottom": null,
      "display": null,
      "flex": null,
      "flex_flow": null,
      "grid_area": null,
      "grid_auto_columns": null,
      "grid_auto_flow": null,
      "grid_auto_rows": null,
      "grid_column": null,
      "grid_gap": null,
      "grid_row": null,
      "grid_template_areas": null,
      "grid_template_columns": null,
      "grid_template_rows": null,
      "height": null,
      "justify_content": null,
      "justify_items": null,
      "left": null,
      "margin": null,
      "max_height": null,
      "max_width": null,
      "min_height": null,
      "min_width": null,
      "object_fit": null,
      "object_position": null,
      "order": null,
      "overflow": null,
      "overflow_x": null,
      "overflow_y": null,
      "padding": null,
      "right": null,
      "top": null,
      "visibility": null,
      "width": null
     }
    },
    "7ec46f48f1d54036846d0b0f356fa774": {
     "model_module": "@jupyter-widgets/base",
     "model_name": "LayoutModel",
     "state": {
      "_model_module": "@jupyter-widgets/base",
      "_model_module_version": "1.2.0",
      "_model_name": "LayoutModel",
      "_view_count": null,
      "_view_module": "@jupyter-widgets/base",
      "_view_module_version": "1.2.0",
      "_view_name": "LayoutView",
      "align_content": null,
      "align_items": null,
      "align_self": null,
      "border": null,
      "bottom": null,
      "display": null,
      "flex": null,
      "flex_flow": null,
      "grid_area": null,
      "grid_auto_columns": null,
      "grid_auto_flow": null,
      "grid_auto_rows": null,
      "grid_column": null,
      "grid_gap": null,
      "grid_row": null,
      "grid_template_areas": null,
      "grid_template_columns": null,
      "grid_template_rows": null,
      "height": null,
      "justify_content": null,
      "justify_items": null,
      "left": null,
      "margin": null,
      "max_height": null,
      "max_width": null,
      "min_height": null,
      "min_width": null,
      "object_fit": null,
      "object_position": null,
      "order": null,
      "overflow": null,
      "overflow_x": null,
      "overflow_y": null,
      "padding": null,
      "right": null,
      "top": null,
      "visibility": null,
      "width": null
     }
    },
    "7ed94f88942342869ee40472605abec1": {
     "model_module": "@jupyter-widgets/base",
     "model_name": "LayoutModel",
     "state": {
      "_model_module": "@jupyter-widgets/base",
      "_model_module_version": "1.2.0",
      "_model_name": "LayoutModel",
      "_view_count": null,
      "_view_module": "@jupyter-widgets/base",
      "_view_module_version": "1.2.0",
      "_view_name": "LayoutView",
      "align_content": null,
      "align_items": null,
      "align_self": null,
      "border": null,
      "bottom": null,
      "display": null,
      "flex": null,
      "flex_flow": null,
      "grid_area": null,
      "grid_auto_columns": null,
      "grid_auto_flow": null,
      "grid_auto_rows": null,
      "grid_column": null,
      "grid_gap": null,
      "grid_row": null,
      "grid_template_areas": null,
      "grid_template_columns": null,
      "grid_template_rows": null,
      "height": null,
      "justify_content": null,
      "justify_items": null,
      "left": null,
      "margin": null,
      "max_height": null,
      "max_width": null,
      "min_height": null,
      "min_width": null,
      "object_fit": null,
      "object_position": null,
      "order": null,
      "overflow": null,
      "overflow_x": null,
      "overflow_y": null,
      "padding": null,
      "right": null,
      "top": null,
      "visibility": null,
      "width": null
     }
    },
    "81a0875f56194bec9658dba2c54cdfa0": {
     "model_module": "@jupyter-widgets/base",
     "model_name": "LayoutModel",
     "state": {
      "_model_module": "@jupyter-widgets/base",
      "_model_module_version": "1.2.0",
      "_model_name": "LayoutModel",
      "_view_count": null,
      "_view_module": "@jupyter-widgets/base",
      "_view_module_version": "1.2.0",
      "_view_name": "LayoutView",
      "align_content": null,
      "align_items": null,
      "align_self": null,
      "border": null,
      "bottom": null,
      "display": null,
      "flex": null,
      "flex_flow": null,
      "grid_area": null,
      "grid_auto_columns": null,
      "grid_auto_flow": null,
      "grid_auto_rows": null,
      "grid_column": null,
      "grid_gap": null,
      "grid_row": null,
      "grid_template_areas": null,
      "grid_template_columns": null,
      "grid_template_rows": null,
      "height": null,
      "justify_content": null,
      "justify_items": null,
      "left": null,
      "margin": null,
      "max_height": null,
      "max_width": null,
      "min_height": null,
      "min_width": null,
      "object_fit": null,
      "object_position": null,
      "order": null,
      "overflow": null,
      "overflow_x": null,
      "overflow_y": null,
      "padding": null,
      "right": null,
      "top": null,
      "visibility": null,
      "width": null
     }
    },
    "94c3f49f82764d018af1c8a095f874a8": {
     "model_module": "@jupyter-widgets/controls",
     "model_name": "HTMLModel",
     "state": {
      "_dom_classes": [],
      "_model_module": "@jupyter-widgets/controls",
      "_model_module_version": "1.5.0",
      "_model_name": "HTMLModel",
      "_view_count": null,
      "_view_module": "@jupyter-widgets/controls",
      "_view_module_version": "1.5.0",
      "_view_name": "HTMLView",
      "description": "",
      "description_tooltip": null,
      "layout": "IPY_MODEL_76d8039e8c99463f830c236cd868e62e",
      "placeholder": "​",
      "style": "IPY_MODEL_c19e5fa897174e55b6089a43e1fb757d",
      "value": " 155/155 [02:51&lt;00:00,  1.11s/it]"
     }
    },
    "a21230b5b26f400face0245568360af9": {
     "model_module": "@jupyter-widgets/controls",
     "model_name": "HBoxModel",
     "state": {
      "_dom_classes": [],
      "_model_module": "@jupyter-widgets/controls",
      "_model_module_version": "1.5.0",
      "_model_name": "HBoxModel",
      "_view_count": null,
      "_view_module": "@jupyter-widgets/controls",
      "_view_module_version": "1.5.0",
      "_view_name": "HBoxView",
      "box_style": "",
      "children": [
       "IPY_MODEL_64866bd9f0484b02b556d893c61eeb5a",
       "IPY_MODEL_4fc690698ae5483388cc5d4728b76a18"
      ],
      "layout": "IPY_MODEL_3d3fa86f2e984ca4809382f8e0f0642e"
     }
    },
    "aac67e55f3b749e8a8eda966a7599bcb": {
     "model_module": "@jupyter-widgets/controls",
     "model_name": "FloatProgressModel",
     "state": {
      "_dom_classes": [],
      "_model_module": "@jupyter-widgets/controls",
      "_model_module_version": "1.5.0",
      "_model_name": "FloatProgressModel",
      "_view_count": null,
      "_view_module": "@jupyter-widgets/controls",
      "_view_module_version": "1.5.0",
      "_view_name": "ProgressView",
      "bar_style": "success",
      "description": "100%",
      "description_tooltip": null,
      "layout": "IPY_MODEL_81a0875f56194bec9658dba2c54cdfa0",
      "max": 155,
      "min": 0,
      "orientation": "horizontal",
      "style": "IPY_MODEL_43f71e9de039486c8d66c238b2a82069",
      "value": 155
     }
    },
    "ad0a80dd40d74ae5a84ff987a3998163": {
     "model_module": "@jupyter-widgets/base",
     "model_name": "LayoutModel",
     "state": {
      "_model_module": "@jupyter-widgets/base",
      "_model_module_version": "1.2.0",
      "_model_name": "LayoutModel",
      "_view_count": null,
      "_view_module": "@jupyter-widgets/base",
      "_view_module_version": "1.2.0",
      "_view_name": "LayoutView",
      "align_content": null,
      "align_items": null,
      "align_self": null,
      "border": null,
      "bottom": null,
      "display": null,
      "flex": null,
      "flex_flow": null,
      "grid_area": null,
      "grid_auto_columns": null,
      "grid_auto_flow": null,
      "grid_auto_rows": null,
      "grid_column": null,
      "grid_gap": null,
      "grid_row": null,
      "grid_template_areas": null,
      "grid_template_columns": null,
      "grid_template_rows": null,
      "height": null,
      "justify_content": null,
      "justify_items": null,
      "left": null,
      "margin": null,
      "max_height": null,
      "max_width": null,
      "min_height": null,
      "min_width": null,
      "object_fit": null,
      "object_position": null,
      "order": null,
      "overflow": null,
      "overflow_x": null,
      "overflow_y": null,
      "padding": null,
      "right": null,
      "top": null,
      "visibility": null,
      "width": null
     }
    },
    "bd0d57808d544b25884a617a0542e856": {
     "model_module": "@jupyter-widgets/controls",
     "model_name": "FloatProgressModel",
     "state": {
      "_dom_classes": [],
      "_model_module": "@jupyter-widgets/controls",
      "_model_module_version": "1.5.0",
      "_model_name": "FloatProgressModel",
      "_view_count": null,
      "_view_module": "@jupyter-widgets/controls",
      "_view_module_version": "1.5.0",
      "_view_name": "ProgressView",
      "bar_style": "success",
      "description": "100%",
      "description_tooltip": null,
      "layout": "IPY_MODEL_df4dce072d2f4d10a0cffd09ada1cdf9",
      "max": 155,
      "min": 0,
      "orientation": "horizontal",
      "style": "IPY_MODEL_cf5b8149bcf043ad8169958301128e0f",
      "value": 155
     }
    },
    "c19e5fa897174e55b6089a43e1fb757d": {
     "model_module": "@jupyter-widgets/controls",
     "model_name": "DescriptionStyleModel",
     "state": {
      "_model_module": "@jupyter-widgets/controls",
      "_model_module_version": "1.5.0",
      "_model_name": "DescriptionStyleModel",
      "_view_count": null,
      "_view_module": "@jupyter-widgets/base",
      "_view_module_version": "1.2.0",
      "_view_name": "StyleView",
      "description_width": ""
     }
    },
    "c2266e2d8274455c99e79cdcc8c5cab0": {
     "model_module": "@jupyter-widgets/controls",
     "model_name": "HTMLModel",
     "state": {
      "_dom_classes": [],
      "_model_module": "@jupyter-widgets/controls",
      "_model_module_version": "1.5.0",
      "_model_name": "HTMLModel",
      "_view_count": null,
      "_view_module": "@jupyter-widgets/controls",
      "_view_module_version": "1.5.0",
      "_view_name": "HTMLView",
      "description": "",
      "description_tooltip": null,
      "layout": "IPY_MODEL_7ed94f88942342869ee40472605abec1",
      "placeholder": "​",
      "style": "IPY_MODEL_d11e933ef87945c79eeeb36f7b1fe6e1",
      "value": " 155/155 [26:25&lt;00:00, 10.23s/it]"
     }
    },
    "c5faf5d6e8234c89829a5e29677684db": {
     "model_module": "@jupyter-widgets/base",
     "model_name": "LayoutModel",
     "state": {
      "_model_module": "@jupyter-widgets/base",
      "_model_module_version": "1.2.0",
      "_model_name": "LayoutModel",
      "_view_count": null,
      "_view_module": "@jupyter-widgets/base",
      "_view_module_version": "1.2.0",
      "_view_name": "LayoutView",
      "align_content": null,
      "align_items": null,
      "align_self": null,
      "border": null,
      "bottom": null,
      "display": null,
      "flex": null,
      "flex_flow": null,
      "grid_area": null,
      "grid_auto_columns": null,
      "grid_auto_flow": null,
      "grid_auto_rows": null,
      "grid_column": null,
      "grid_gap": null,
      "grid_row": null,
      "grid_template_areas": null,
      "grid_template_columns": null,
      "grid_template_rows": null,
      "height": null,
      "justify_content": null,
      "justify_items": null,
      "left": null,
      "margin": null,
      "max_height": null,
      "max_width": null,
      "min_height": null,
      "min_width": null,
      "object_fit": null,
      "object_position": null,
      "order": null,
      "overflow": null,
      "overflow_x": null,
      "overflow_y": null,
      "padding": null,
      "right": null,
      "top": null,
      "visibility": null,
      "width": null
     }
    },
    "cdfa166cf6dc4ce2a2007d797a863a4c": {
     "model_module": "@jupyter-widgets/base",
     "model_name": "LayoutModel",
     "state": {
      "_model_module": "@jupyter-widgets/base",
      "_model_module_version": "1.2.0",
      "_model_name": "LayoutModel",
      "_view_count": null,
      "_view_module": "@jupyter-widgets/base",
      "_view_module_version": "1.2.0",
      "_view_name": "LayoutView",
      "align_content": null,
      "align_items": null,
      "align_self": null,
      "border": null,
      "bottom": null,
      "display": null,
      "flex": null,
      "flex_flow": null,
      "grid_area": null,
      "grid_auto_columns": null,
      "grid_auto_flow": null,
      "grid_auto_rows": null,
      "grid_column": null,
      "grid_gap": null,
      "grid_row": null,
      "grid_template_areas": null,
      "grid_template_columns": null,
      "grid_template_rows": null,
      "height": null,
      "justify_content": null,
      "justify_items": null,
      "left": null,
      "margin": null,
      "max_height": null,
      "max_width": null,
      "min_height": null,
      "min_width": null,
      "object_fit": null,
      "object_position": null,
      "order": null,
      "overflow": null,
      "overflow_x": null,
      "overflow_y": null,
      "padding": null,
      "right": null,
      "top": null,
      "visibility": null,
      "width": null
     }
    },
    "cf5b8149bcf043ad8169958301128e0f": {
     "model_module": "@jupyter-widgets/controls",
     "model_name": "ProgressStyleModel",
     "state": {
      "_model_module": "@jupyter-widgets/controls",
      "_model_module_version": "1.5.0",
      "_model_name": "ProgressStyleModel",
      "_view_count": null,
      "_view_module": "@jupyter-widgets/base",
      "_view_module_version": "1.2.0",
      "_view_name": "StyleView",
      "bar_color": null,
      "description_width": "initial"
     }
    },
    "d11e933ef87945c79eeeb36f7b1fe6e1": {
     "model_module": "@jupyter-widgets/controls",
     "model_name": "DescriptionStyleModel",
     "state": {
      "_model_module": "@jupyter-widgets/controls",
      "_model_module_version": "1.5.0",
      "_model_name": "DescriptionStyleModel",
      "_view_count": null,
      "_view_module": "@jupyter-widgets/base",
      "_view_module_version": "1.2.0",
      "_view_name": "StyleView",
      "description_width": ""
     }
    },
    "df4dce072d2f4d10a0cffd09ada1cdf9": {
     "model_module": "@jupyter-widgets/base",
     "model_name": "LayoutModel",
     "state": {
      "_model_module": "@jupyter-widgets/base",
      "_model_module_version": "1.2.0",
      "_model_name": "LayoutModel",
      "_view_count": null,
      "_view_module": "@jupyter-widgets/base",
      "_view_module_version": "1.2.0",
      "_view_name": "LayoutView",
      "align_content": null,
      "align_items": null,
      "align_self": null,
      "border": null,
      "bottom": null,
      "display": null,
      "flex": null,
      "flex_flow": null,
      "grid_area": null,
      "grid_auto_columns": null,
      "grid_auto_flow": null,
      "grid_auto_rows": null,
      "grid_column": null,
      "grid_gap": null,
      "grid_row": null,
      "grid_template_areas": null,
      "grid_template_columns": null,
      "grid_template_rows": null,
      "height": null,
      "justify_content": null,
      "justify_items": null,
      "left": null,
      "margin": null,
      "max_height": null,
      "max_width": null,
      "min_height": null,
      "min_width": null,
      "object_fit": null,
      "object_position": null,
      "order": null,
      "overflow": null,
      "overflow_x": null,
      "overflow_y": null,
      "padding": null,
      "right": null,
      "top": null,
      "visibility": null,
      "width": null
     }
    },
    "e7e0252571ed4998bc544f403d57ed83": {
     "model_module": "@jupyter-widgets/controls",
     "model_name": "ProgressStyleModel",
     "state": {
      "_model_module": "@jupyter-widgets/controls",
      "_model_module_version": "1.5.0",
      "_model_name": "ProgressStyleModel",
      "_view_count": null,
      "_view_module": "@jupyter-widgets/base",
      "_view_module_version": "1.2.0",
      "_view_name": "StyleView",
      "bar_color": null,
      "description_width": "initial"
     }
    },
    "ed27683820ba4eaaae1397d176a2946f": {
     "model_module": "@jupyter-widgets/controls",
     "model_name": "HBoxModel",
     "state": {
      "_dom_classes": [],
      "_model_module": "@jupyter-widgets/controls",
      "_model_module_version": "1.5.0",
      "_model_name": "HBoxModel",
      "_view_count": null,
      "_view_module": "@jupyter-widgets/controls",
      "_view_module_version": "1.5.0",
      "_view_name": "HBoxView",
      "box_style": "",
      "children": [
       "IPY_MODEL_bd0d57808d544b25884a617a0542e856",
       "IPY_MODEL_94c3f49f82764d018af1c8a095f874a8"
      ],
      "layout": "IPY_MODEL_cdfa166cf6dc4ce2a2007d797a863a4c"
     }
    },
    "fb4f1d0da5e241469ad41288bf1a051d": {
     "model_module": "@jupyter-widgets/controls",
     "model_name": "DescriptionStyleModel",
     "state": {
      "_model_module": "@jupyter-widgets/controls",
      "_model_module_version": "1.5.0",
      "_model_name": "DescriptionStyleModel",
      "_view_count": null,
      "_view_module": "@jupyter-widgets/base",
      "_view_module_version": "1.2.0",
      "_view_name": "StyleView",
      "description_width": ""
     }
    }
   }
  }
 },
 "nbformat": 4,
 "nbformat_minor": 1
}
